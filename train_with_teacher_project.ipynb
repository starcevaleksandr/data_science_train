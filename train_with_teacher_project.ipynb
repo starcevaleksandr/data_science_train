{
 "cells": [
  {
   "cell_type": "markdown",
   "id": "0880e240",
   "metadata": {
    "toc": true
   },
   "source": [
    "<h1>Table of Contents<span class=\"tocSkip\"></span></h1>\n",
    "<div class=\"toc\"><ul class=\"toc-item\"><li><span><a href=\"#Импорт-данных\" data-toc-modified-id=\"Импорт-данных-1\"><span class=\"toc-item-num\">1&nbsp;&nbsp;</span>Импорт данных</a></span></li><li><span><a href=\"#Подготовка-данных\" data-toc-modified-id=\"Подготовка-данных-2\"><span class=\"toc-item-num\">2&nbsp;&nbsp;</span>Подготовка данных</a></span><ul class=\"toc-item\"><li><span><a href=\"#Предобработка\" data-toc-modified-id=\"Предобработка-2.1\"><span class=\"toc-item-num\">2.1&nbsp;&nbsp;</span>Предобработка</a></span></li><li><span><a href=\"#Кодирование-категориальных-признаков\" data-toc-modified-id=\"Кодирование-категориальных-признаков-2.2\"><span class=\"toc-item-num\">2.2&nbsp;&nbsp;</span>Кодирование категориальных признаков</a></span></li></ul></li><li><span><a href=\"#Исследование-баланса-классов\" data-toc-modified-id=\"Исследование-баланса-классов-3\"><span class=\"toc-item-num\">3&nbsp;&nbsp;</span>Исследование баланса классов</a></span></li><li><span><a href=\"#Обучение-модели\" data-toc-modified-id=\"Обучение-модели-4\"><span class=\"toc-item-num\">4&nbsp;&nbsp;</span>Обучение модели</a></span><ul class=\"toc-item\"><li><span><a href=\"#Кодирование-категориальных-переменных\" data-toc-modified-id=\"Кодирование-категориальных-переменных-4.1\"><span class=\"toc-item-num\">4.1&nbsp;&nbsp;</span>Кодирование категориальных переменных</a></span></li><li><span><a href=\"#Стандартизация-данных\" data-toc-modified-id=\"Стандартизация-данных-4.2\"><span class=\"toc-item-num\">4.2&nbsp;&nbsp;</span>Стандартизация данных</a></span></li><li><span><a href=\"#Обучение-без-учета-дисбаланса-классов\" data-toc-modified-id=\"Обучение-без-учета-дисбаланса-классов-4.3\"><span class=\"toc-item-num\">4.3&nbsp;&nbsp;</span>Обучение без учета дисбаланса классов</a></span><ul class=\"toc-item\"><li><span><a href=\"#Дерево-решений\" data-toc-modified-id=\"Дерево-решений-4.3.1\"><span class=\"toc-item-num\">4.3.1&nbsp;&nbsp;</span>Дерево решений</a></span></li><li><span><a href=\"#Случайный-лес\" data-toc-modified-id=\"Случайный-лес-4.3.2\"><span class=\"toc-item-num\">4.3.2&nbsp;&nbsp;</span>Случайный лес</a></span></li><li><span><a href=\"#Логистическая-регрессия\" data-toc-modified-id=\"Логистическая-регрессия-4.3.3\"><span class=\"toc-item-num\">4.3.3&nbsp;&nbsp;</span>Логистическая регрессия</a></span></li></ul></li><li><span><a href=\"#Учтем-дисбаланс-классов\" data-toc-modified-id=\"Учтем-дисбаланс-классов-4.4\"><span class=\"toc-item-num\">4.4&nbsp;&nbsp;</span>Учтем дисбаланс классов</a></span><ul class=\"toc-item\"><li><span><a href=\"#Увеличение-выборки\" data-toc-modified-id=\"Увеличение-выборки-4.4.1\"><span class=\"toc-item-num\">4.4.1&nbsp;&nbsp;</span>Увеличение выборки</a></span><ul class=\"toc-item\"><li><span><a href=\"#Дерево-решений\" data-toc-modified-id=\"Дерево-решений-4.4.1.1\"><span class=\"toc-item-num\">4.4.1.1&nbsp;&nbsp;</span>Дерево решений</a></span></li><li><span><a href=\"#Случайный-лес\" data-toc-modified-id=\"Случайный-лес-4.4.1.2\"><span class=\"toc-item-num\">4.4.1.2&nbsp;&nbsp;</span>Случайный лес</a></span></li><li><span><a href=\"#Логистическая-регрессия\" data-toc-modified-id=\"Логистическая-регрессия-4.4.1.3\"><span class=\"toc-item-num\">4.4.1.3&nbsp;&nbsp;</span>Логистическая регрессия</a></span></li></ul></li><li><span><a href=\"#Уменьшение-выборки\" data-toc-modified-id=\"Уменьшение-выборки-4.4.2\"><span class=\"toc-item-num\">4.4.2&nbsp;&nbsp;</span>Уменьшение выборки</a></span></li><li><span><a href=\"#Изменение-порога\" data-toc-modified-id=\"Изменение-порога-4.4.3\"><span class=\"toc-item-num\">4.4.3&nbsp;&nbsp;</span>Изменение порога</a></span></li></ul></li></ul></li><li><span><a href=\"#Тестирование-лучшей-модели\" data-toc-modified-id=\"Тестирование-лучшей-модели-5\"><span class=\"toc-item-num\">5&nbsp;&nbsp;</span>Тестирование лучшей модели</a></span></li><li><span><a href=\"#Общий-вывод-по-проекту\" data-toc-modified-id=\"Общий-вывод-по-проекту-6\"><span class=\"toc-item-num\">6&nbsp;&nbsp;</span><b>Общий вывод по проекту</b></a></span></li><li><span><a href=\"#Общий-вывод-по-проекту-В2\" data-toc-modified-id=\"Общий-вывод-по-проекту-В2-7\"><span class=\"toc-item-num\">7&nbsp;&nbsp;</span><b>Общий вывод по проекту В2</b></a></span></li></ul></div>"
   ]
  },
  {
   "cell_type": "markdown",
   "id": "bf9084f9",
   "metadata": {},
   "source": [
    "Из «Бета-Банка» стали уходить клиенты. Каждый месяц. Немного, но заметно. Банковские маркетологи посчитали: сохранять текущих клиентов дешевле, чем привлекать новых.\n",
    "Нужно спрогнозировать, уйдёт клиент из банка в ближайшее время или нет. Вам предоставлены исторические данные о поведении клиентов и расторжении договоров с банком. \n",
    "\n",
    "Требуется построить модель с предельно большим значением F1-меры. Чтобы сдать проект успешно, нужно довести метрику до 0.59."
   ]
  },
  {
   "cell_type": "markdown",
   "id": "bf182cce",
   "metadata": {},
   "source": [
    "## Импорт данных"
   ]
  },
  {
   "cell_type": "code",
   "execution_count": 1,
   "id": "ad7589c2",
   "metadata": {},
   "outputs": [],
   "source": [
    "import pandas as pd\n",
    "\n",
    "from sklearn.preprocessing import OneHotEncoder\n",
    "from sklearn.preprocessing import StandardScaler\n",
    "from sklearn.model_selection import train_test_split\n",
    "from sklearn.tree import DecisionTreeClassifier\n",
    "from sklearn.ensemble import RandomForestClassifier\n",
    "from sklearn.linear_model import LogisticRegression\n",
    "from sklearn.metrics import f1_score, roc_auc_score\n",
    "from sklearn.utils import shuffle\n"
   ]
  },
  {
   "cell_type": "code",
   "execution_count": 2,
   "id": "7be27fc5",
   "metadata": {},
   "outputs": [],
   "source": [
    "try:\n",
    "    data = pd.read_csv('C:\\datasets\\Churn.csv')\n",
    "except:\n",
    "    data = pd.read_csv('/datasets/Churn.csv')\n"
   ]
  },
  {
   "cell_type": "code",
   "execution_count": 3,
   "id": "21560d86",
   "metadata": {
    "scrolled": true
   },
   "outputs": [
    {
     "data": {
      "text/html": [
       "<div>\n",
       "<style scoped>\n",
       "    .dataframe tbody tr th:only-of-type {\n",
       "        vertical-align: middle;\n",
       "    }\n",
       "\n",
       "    .dataframe tbody tr th {\n",
       "        vertical-align: top;\n",
       "    }\n",
       "\n",
       "    .dataframe thead th {\n",
       "        text-align: right;\n",
       "    }\n",
       "</style>\n",
       "<table border=\"1\" class=\"dataframe\">\n",
       "  <thead>\n",
       "    <tr style=\"text-align: right;\">\n",
       "      <th></th>\n",
       "      <th>RowNumber</th>\n",
       "      <th>CustomerId</th>\n",
       "      <th>Surname</th>\n",
       "      <th>CreditScore</th>\n",
       "      <th>Geography</th>\n",
       "      <th>Gender</th>\n",
       "      <th>Age</th>\n",
       "      <th>Tenure</th>\n",
       "      <th>Balance</th>\n",
       "      <th>NumOfProducts</th>\n",
       "      <th>HasCrCard</th>\n",
       "      <th>IsActiveMember</th>\n",
       "      <th>EstimatedSalary</th>\n",
       "      <th>Exited</th>\n",
       "    </tr>\n",
       "  </thead>\n",
       "  <tbody>\n",
       "    <tr>\n",
       "      <th>0</th>\n",
       "      <td>1</td>\n",
       "      <td>15634602</td>\n",
       "      <td>Hargrave</td>\n",
       "      <td>619</td>\n",
       "      <td>France</td>\n",
       "      <td>Female</td>\n",
       "      <td>42</td>\n",
       "      <td>2.0</td>\n",
       "      <td>0.00</td>\n",
       "      <td>1</td>\n",
       "      <td>1</td>\n",
       "      <td>1</td>\n",
       "      <td>101348.88</td>\n",
       "      <td>1</td>\n",
       "    </tr>\n",
       "    <tr>\n",
       "      <th>1</th>\n",
       "      <td>2</td>\n",
       "      <td>15647311</td>\n",
       "      <td>Hill</td>\n",
       "      <td>608</td>\n",
       "      <td>Spain</td>\n",
       "      <td>Female</td>\n",
       "      <td>41</td>\n",
       "      <td>1.0</td>\n",
       "      <td>83807.86</td>\n",
       "      <td>1</td>\n",
       "      <td>0</td>\n",
       "      <td>1</td>\n",
       "      <td>112542.58</td>\n",
       "      <td>0</td>\n",
       "    </tr>\n",
       "    <tr>\n",
       "      <th>2</th>\n",
       "      <td>3</td>\n",
       "      <td>15619304</td>\n",
       "      <td>Onio</td>\n",
       "      <td>502</td>\n",
       "      <td>France</td>\n",
       "      <td>Female</td>\n",
       "      <td>42</td>\n",
       "      <td>8.0</td>\n",
       "      <td>159660.80</td>\n",
       "      <td>3</td>\n",
       "      <td>1</td>\n",
       "      <td>0</td>\n",
       "      <td>113931.57</td>\n",
       "      <td>1</td>\n",
       "    </tr>\n",
       "    <tr>\n",
       "      <th>3</th>\n",
       "      <td>4</td>\n",
       "      <td>15701354</td>\n",
       "      <td>Boni</td>\n",
       "      <td>699</td>\n",
       "      <td>France</td>\n",
       "      <td>Female</td>\n",
       "      <td>39</td>\n",
       "      <td>1.0</td>\n",
       "      <td>0.00</td>\n",
       "      <td>2</td>\n",
       "      <td>0</td>\n",
       "      <td>0</td>\n",
       "      <td>93826.63</td>\n",
       "      <td>0</td>\n",
       "    </tr>\n",
       "    <tr>\n",
       "      <th>4</th>\n",
       "      <td>5</td>\n",
       "      <td>15737888</td>\n",
       "      <td>Mitchell</td>\n",
       "      <td>850</td>\n",
       "      <td>Spain</td>\n",
       "      <td>Female</td>\n",
       "      <td>43</td>\n",
       "      <td>2.0</td>\n",
       "      <td>125510.82</td>\n",
       "      <td>1</td>\n",
       "      <td>1</td>\n",
       "      <td>1</td>\n",
       "      <td>79084.10</td>\n",
       "      <td>0</td>\n",
       "    </tr>\n",
       "    <tr>\n",
       "      <th>5</th>\n",
       "      <td>6</td>\n",
       "      <td>15574012</td>\n",
       "      <td>Chu</td>\n",
       "      <td>645</td>\n",
       "      <td>Spain</td>\n",
       "      <td>Male</td>\n",
       "      <td>44</td>\n",
       "      <td>8.0</td>\n",
       "      <td>113755.78</td>\n",
       "      <td>2</td>\n",
       "      <td>1</td>\n",
       "      <td>0</td>\n",
       "      <td>149756.71</td>\n",
       "      <td>1</td>\n",
       "    </tr>\n",
       "    <tr>\n",
       "      <th>6</th>\n",
       "      <td>7</td>\n",
       "      <td>15592531</td>\n",
       "      <td>Bartlett</td>\n",
       "      <td>822</td>\n",
       "      <td>France</td>\n",
       "      <td>Male</td>\n",
       "      <td>50</td>\n",
       "      <td>7.0</td>\n",
       "      <td>0.00</td>\n",
       "      <td>2</td>\n",
       "      <td>1</td>\n",
       "      <td>1</td>\n",
       "      <td>10062.80</td>\n",
       "      <td>0</td>\n",
       "    </tr>\n",
       "    <tr>\n",
       "      <th>7</th>\n",
       "      <td>8</td>\n",
       "      <td>15656148</td>\n",
       "      <td>Obinna</td>\n",
       "      <td>376</td>\n",
       "      <td>Germany</td>\n",
       "      <td>Female</td>\n",
       "      <td>29</td>\n",
       "      <td>4.0</td>\n",
       "      <td>115046.74</td>\n",
       "      <td>4</td>\n",
       "      <td>1</td>\n",
       "      <td>0</td>\n",
       "      <td>119346.88</td>\n",
       "      <td>1</td>\n",
       "    </tr>\n",
       "    <tr>\n",
       "      <th>8</th>\n",
       "      <td>9</td>\n",
       "      <td>15792365</td>\n",
       "      <td>He</td>\n",
       "      <td>501</td>\n",
       "      <td>France</td>\n",
       "      <td>Male</td>\n",
       "      <td>44</td>\n",
       "      <td>4.0</td>\n",
       "      <td>142051.07</td>\n",
       "      <td>2</td>\n",
       "      <td>0</td>\n",
       "      <td>1</td>\n",
       "      <td>74940.50</td>\n",
       "      <td>0</td>\n",
       "    </tr>\n",
       "    <tr>\n",
       "      <th>9</th>\n",
       "      <td>10</td>\n",
       "      <td>15592389</td>\n",
       "      <td>H?</td>\n",
       "      <td>684</td>\n",
       "      <td>France</td>\n",
       "      <td>Male</td>\n",
       "      <td>27</td>\n",
       "      <td>2.0</td>\n",
       "      <td>134603.88</td>\n",
       "      <td>1</td>\n",
       "      <td>1</td>\n",
       "      <td>1</td>\n",
       "      <td>71725.73</td>\n",
       "      <td>0</td>\n",
       "    </tr>\n",
       "  </tbody>\n",
       "</table>\n",
       "</div>"
      ],
      "text/plain": [
       "   RowNumber  CustomerId   Surname  CreditScore Geography  Gender  Age  \\\n",
       "0          1    15634602  Hargrave          619    France  Female   42   \n",
       "1          2    15647311      Hill          608     Spain  Female   41   \n",
       "2          3    15619304      Onio          502    France  Female   42   \n",
       "3          4    15701354      Boni          699    France  Female   39   \n",
       "4          5    15737888  Mitchell          850     Spain  Female   43   \n",
       "5          6    15574012       Chu          645     Spain    Male   44   \n",
       "6          7    15592531  Bartlett          822    France    Male   50   \n",
       "7          8    15656148    Obinna          376   Germany  Female   29   \n",
       "8          9    15792365        He          501    France    Male   44   \n",
       "9         10    15592389        H?          684    France    Male   27   \n",
       "\n",
       "   Tenure    Balance  NumOfProducts  HasCrCard  IsActiveMember  \\\n",
       "0     2.0       0.00              1          1               1   \n",
       "1     1.0   83807.86              1          0               1   \n",
       "2     8.0  159660.80              3          1               0   \n",
       "3     1.0       0.00              2          0               0   \n",
       "4     2.0  125510.82              1          1               1   \n",
       "5     8.0  113755.78              2          1               0   \n",
       "6     7.0       0.00              2          1               1   \n",
       "7     4.0  115046.74              4          1               0   \n",
       "8     4.0  142051.07              2          0               1   \n",
       "9     2.0  134603.88              1          1               1   \n",
       "\n",
       "   EstimatedSalary  Exited  \n",
       "0        101348.88       1  \n",
       "1        112542.58       0  \n",
       "2        113931.57       1  \n",
       "3         93826.63       0  \n",
       "4         79084.10       0  \n",
       "5        149756.71       1  \n",
       "6         10062.80       0  \n",
       "7        119346.88       1  \n",
       "8         74940.50       0  \n",
       "9         71725.73       0  "
      ]
     },
     "execution_count": 3,
     "metadata": {},
     "output_type": "execute_result"
    }
   ],
   "source": [
    "data.head(10)"
   ]
  },
  {
   "cell_type": "code",
   "execution_count": 4,
   "id": "e36f95d4",
   "metadata": {
    "scrolled": true
   },
   "outputs": [
    {
     "data": {
      "text/html": [
       "<div>\n",
       "<style scoped>\n",
       "    .dataframe tbody tr th:only-of-type {\n",
       "        vertical-align: middle;\n",
       "    }\n",
       "\n",
       "    .dataframe tbody tr th {\n",
       "        vertical-align: top;\n",
       "    }\n",
       "\n",
       "    .dataframe thead th {\n",
       "        text-align: right;\n",
       "    }\n",
       "</style>\n",
       "<table border=\"1\" class=\"dataframe\">\n",
       "  <thead>\n",
       "    <tr style=\"text-align: right;\">\n",
       "      <th></th>\n",
       "      <th>RowNumber</th>\n",
       "      <th>CustomerId</th>\n",
       "      <th>Surname</th>\n",
       "      <th>CreditScore</th>\n",
       "      <th>Geography</th>\n",
       "      <th>Gender</th>\n",
       "      <th>Age</th>\n",
       "      <th>Tenure</th>\n",
       "      <th>Balance</th>\n",
       "      <th>NumOfProducts</th>\n",
       "      <th>HasCrCard</th>\n",
       "      <th>IsActiveMember</th>\n",
       "      <th>EstimatedSalary</th>\n",
       "      <th>Exited</th>\n",
       "    </tr>\n",
       "  </thead>\n",
       "  <tbody>\n",
       "    <tr>\n",
       "      <th>9990</th>\n",
       "      <td>9991</td>\n",
       "      <td>15798964</td>\n",
       "      <td>Nkemakonam</td>\n",
       "      <td>714</td>\n",
       "      <td>Germany</td>\n",
       "      <td>Male</td>\n",
       "      <td>33</td>\n",
       "      <td>3.0</td>\n",
       "      <td>35016.60</td>\n",
       "      <td>1</td>\n",
       "      <td>1</td>\n",
       "      <td>0</td>\n",
       "      <td>53667.08</td>\n",
       "      <td>0</td>\n",
       "    </tr>\n",
       "    <tr>\n",
       "      <th>9991</th>\n",
       "      <td>9992</td>\n",
       "      <td>15769959</td>\n",
       "      <td>Ajuluchukwu</td>\n",
       "      <td>597</td>\n",
       "      <td>France</td>\n",
       "      <td>Female</td>\n",
       "      <td>53</td>\n",
       "      <td>4.0</td>\n",
       "      <td>88381.21</td>\n",
       "      <td>1</td>\n",
       "      <td>1</td>\n",
       "      <td>0</td>\n",
       "      <td>69384.71</td>\n",
       "      <td>1</td>\n",
       "    </tr>\n",
       "    <tr>\n",
       "      <th>9992</th>\n",
       "      <td>9993</td>\n",
       "      <td>15657105</td>\n",
       "      <td>Chukwualuka</td>\n",
       "      <td>726</td>\n",
       "      <td>Spain</td>\n",
       "      <td>Male</td>\n",
       "      <td>36</td>\n",
       "      <td>2.0</td>\n",
       "      <td>0.00</td>\n",
       "      <td>1</td>\n",
       "      <td>1</td>\n",
       "      <td>0</td>\n",
       "      <td>195192.40</td>\n",
       "      <td>0</td>\n",
       "    </tr>\n",
       "    <tr>\n",
       "      <th>9993</th>\n",
       "      <td>9994</td>\n",
       "      <td>15569266</td>\n",
       "      <td>Rahman</td>\n",
       "      <td>644</td>\n",
       "      <td>France</td>\n",
       "      <td>Male</td>\n",
       "      <td>28</td>\n",
       "      <td>7.0</td>\n",
       "      <td>155060.41</td>\n",
       "      <td>1</td>\n",
       "      <td>1</td>\n",
       "      <td>0</td>\n",
       "      <td>29179.52</td>\n",
       "      <td>0</td>\n",
       "    </tr>\n",
       "    <tr>\n",
       "      <th>9994</th>\n",
       "      <td>9995</td>\n",
       "      <td>15719294</td>\n",
       "      <td>Wood</td>\n",
       "      <td>800</td>\n",
       "      <td>France</td>\n",
       "      <td>Female</td>\n",
       "      <td>29</td>\n",
       "      <td>2.0</td>\n",
       "      <td>0.00</td>\n",
       "      <td>2</td>\n",
       "      <td>0</td>\n",
       "      <td>0</td>\n",
       "      <td>167773.55</td>\n",
       "      <td>0</td>\n",
       "    </tr>\n",
       "    <tr>\n",
       "      <th>9995</th>\n",
       "      <td>9996</td>\n",
       "      <td>15606229</td>\n",
       "      <td>Obijiaku</td>\n",
       "      <td>771</td>\n",
       "      <td>France</td>\n",
       "      <td>Male</td>\n",
       "      <td>39</td>\n",
       "      <td>5.0</td>\n",
       "      <td>0.00</td>\n",
       "      <td>2</td>\n",
       "      <td>1</td>\n",
       "      <td>0</td>\n",
       "      <td>96270.64</td>\n",
       "      <td>0</td>\n",
       "    </tr>\n",
       "    <tr>\n",
       "      <th>9996</th>\n",
       "      <td>9997</td>\n",
       "      <td>15569892</td>\n",
       "      <td>Johnstone</td>\n",
       "      <td>516</td>\n",
       "      <td>France</td>\n",
       "      <td>Male</td>\n",
       "      <td>35</td>\n",
       "      <td>10.0</td>\n",
       "      <td>57369.61</td>\n",
       "      <td>1</td>\n",
       "      <td>1</td>\n",
       "      <td>1</td>\n",
       "      <td>101699.77</td>\n",
       "      <td>0</td>\n",
       "    </tr>\n",
       "    <tr>\n",
       "      <th>9997</th>\n",
       "      <td>9998</td>\n",
       "      <td>15584532</td>\n",
       "      <td>Liu</td>\n",
       "      <td>709</td>\n",
       "      <td>France</td>\n",
       "      <td>Female</td>\n",
       "      <td>36</td>\n",
       "      <td>7.0</td>\n",
       "      <td>0.00</td>\n",
       "      <td>1</td>\n",
       "      <td>0</td>\n",
       "      <td>1</td>\n",
       "      <td>42085.58</td>\n",
       "      <td>1</td>\n",
       "    </tr>\n",
       "    <tr>\n",
       "      <th>9998</th>\n",
       "      <td>9999</td>\n",
       "      <td>15682355</td>\n",
       "      <td>Sabbatini</td>\n",
       "      <td>772</td>\n",
       "      <td>Germany</td>\n",
       "      <td>Male</td>\n",
       "      <td>42</td>\n",
       "      <td>3.0</td>\n",
       "      <td>75075.31</td>\n",
       "      <td>2</td>\n",
       "      <td>1</td>\n",
       "      <td>0</td>\n",
       "      <td>92888.52</td>\n",
       "      <td>1</td>\n",
       "    </tr>\n",
       "    <tr>\n",
       "      <th>9999</th>\n",
       "      <td>10000</td>\n",
       "      <td>15628319</td>\n",
       "      <td>Walker</td>\n",
       "      <td>792</td>\n",
       "      <td>France</td>\n",
       "      <td>Female</td>\n",
       "      <td>28</td>\n",
       "      <td>NaN</td>\n",
       "      <td>130142.79</td>\n",
       "      <td>1</td>\n",
       "      <td>1</td>\n",
       "      <td>0</td>\n",
       "      <td>38190.78</td>\n",
       "      <td>0</td>\n",
       "    </tr>\n",
       "  </tbody>\n",
       "</table>\n",
       "</div>"
      ],
      "text/plain": [
       "      RowNumber  CustomerId      Surname  CreditScore Geography  Gender  Age  \\\n",
       "9990       9991    15798964   Nkemakonam          714   Germany    Male   33   \n",
       "9991       9992    15769959  Ajuluchukwu          597    France  Female   53   \n",
       "9992       9993    15657105  Chukwualuka          726     Spain    Male   36   \n",
       "9993       9994    15569266       Rahman          644    France    Male   28   \n",
       "9994       9995    15719294         Wood          800    France  Female   29   \n",
       "9995       9996    15606229     Obijiaku          771    France    Male   39   \n",
       "9996       9997    15569892    Johnstone          516    France    Male   35   \n",
       "9997       9998    15584532          Liu          709    France  Female   36   \n",
       "9998       9999    15682355    Sabbatini          772   Germany    Male   42   \n",
       "9999      10000    15628319       Walker          792    France  Female   28   \n",
       "\n",
       "      Tenure    Balance  NumOfProducts  HasCrCard  IsActiveMember  \\\n",
       "9990     3.0   35016.60              1          1               0   \n",
       "9991     4.0   88381.21              1          1               0   \n",
       "9992     2.0       0.00              1          1               0   \n",
       "9993     7.0  155060.41              1          1               0   \n",
       "9994     2.0       0.00              2          0               0   \n",
       "9995     5.0       0.00              2          1               0   \n",
       "9996    10.0   57369.61              1          1               1   \n",
       "9997     7.0       0.00              1          0               1   \n",
       "9998     3.0   75075.31              2          1               0   \n",
       "9999     NaN  130142.79              1          1               0   \n",
       "\n",
       "      EstimatedSalary  Exited  \n",
       "9990         53667.08       0  \n",
       "9991         69384.71       1  \n",
       "9992        195192.40       0  \n",
       "9993         29179.52       0  \n",
       "9994        167773.55       0  \n",
       "9995         96270.64       0  \n",
       "9996        101699.77       0  \n",
       "9997         42085.58       1  \n",
       "9998         92888.52       1  \n",
       "9999         38190.78       0  "
      ]
     },
     "execution_count": 4,
     "metadata": {},
     "output_type": "execute_result"
    }
   ],
   "source": [
    "data.tail(10)"
   ]
  },
  {
   "cell_type": "code",
   "execution_count": 5,
   "id": "efb1eca5",
   "metadata": {},
   "outputs": [
    {
     "name": "stdout",
     "output_type": "stream",
     "text": [
      "<class 'pandas.core.frame.DataFrame'>\n",
      "RangeIndex: 10000 entries, 0 to 9999\n",
      "Data columns (total 14 columns):\n",
      " #   Column           Non-Null Count  Dtype  \n",
      "---  ------           --------------  -----  \n",
      " 0   RowNumber        10000 non-null  int64  \n",
      " 1   CustomerId       10000 non-null  int64  \n",
      " 2   Surname          10000 non-null  object \n",
      " 3   CreditScore      10000 non-null  int64  \n",
      " 4   Geography        10000 non-null  object \n",
      " 5   Gender           10000 non-null  object \n",
      " 6   Age              10000 non-null  int64  \n",
      " 7   Tenure           9091 non-null   float64\n",
      " 8   Balance          10000 non-null  float64\n",
      " 9   NumOfProducts    10000 non-null  int64  \n",
      " 10  HasCrCard        10000 non-null  int64  \n",
      " 11  IsActiveMember   10000 non-null  int64  \n",
      " 12  EstimatedSalary  10000 non-null  float64\n",
      " 13  Exited           10000 non-null  int64  \n",
      "dtypes: float64(3), int64(8), object(3)\n",
      "memory usage: 1.1+ MB\n"
     ]
    }
   ],
   "source": [
    "data.info()"
   ]
  },
  {
   "cell_type": "markdown",
   "id": "e3287071",
   "metadata": {},
   "source": [
    "В датасете есть пропуски, не все типы данных оптимальны для значений в столбцах."
   ]
  },
  {
   "cell_type": "markdown",
   "id": "d02145fd",
   "metadata": {},
   "source": [
    "## Подготовка данных"
   ]
  },
  {
   "cell_type": "markdown",
   "id": "2a11b23f",
   "metadata": {},
   "source": [
    "### Предобработка"
   ]
  },
  {
   "cell_type": "markdown",
   "id": "eb760f65",
   "metadata": {},
   "source": [
    "Столбец `Row Number` аналогичен столбцу индексов, поэтому от него можно избавиться"
   ]
  },
  {
   "cell_type": "code",
   "execution_count": 6,
   "id": "448d34f8",
   "metadata": {},
   "outputs": [
    {
     "data": {
      "text/html": [
       "<div>\n",
       "<style scoped>\n",
       "    .dataframe tbody tr th:only-of-type {\n",
       "        vertical-align: middle;\n",
       "    }\n",
       "\n",
       "    .dataframe tbody tr th {\n",
       "        vertical-align: top;\n",
       "    }\n",
       "\n",
       "    .dataframe thead th {\n",
       "        text-align: right;\n",
       "    }\n",
       "</style>\n",
       "<table border=\"1\" class=\"dataframe\">\n",
       "  <thead>\n",
       "    <tr style=\"text-align: right;\">\n",
       "      <th></th>\n",
       "      <th>CustomerId</th>\n",
       "      <th>Surname</th>\n",
       "      <th>CreditScore</th>\n",
       "      <th>Geography</th>\n",
       "      <th>Gender</th>\n",
       "      <th>Age</th>\n",
       "      <th>Tenure</th>\n",
       "      <th>Balance</th>\n",
       "      <th>NumOfProducts</th>\n",
       "      <th>HasCrCard</th>\n",
       "      <th>IsActiveMember</th>\n",
       "      <th>EstimatedSalary</th>\n",
       "      <th>Exited</th>\n",
       "    </tr>\n",
       "  </thead>\n",
       "  <tbody>\n",
       "    <tr>\n",
       "      <th>0</th>\n",
       "      <td>15634602</td>\n",
       "      <td>Hargrave</td>\n",
       "      <td>619</td>\n",
       "      <td>France</td>\n",
       "      <td>Female</td>\n",
       "      <td>42</td>\n",
       "      <td>2.0</td>\n",
       "      <td>0.00</td>\n",
       "      <td>1</td>\n",
       "      <td>1</td>\n",
       "      <td>1</td>\n",
       "      <td>101348.88</td>\n",
       "      <td>1</td>\n",
       "    </tr>\n",
       "    <tr>\n",
       "      <th>1</th>\n",
       "      <td>15647311</td>\n",
       "      <td>Hill</td>\n",
       "      <td>608</td>\n",
       "      <td>Spain</td>\n",
       "      <td>Female</td>\n",
       "      <td>41</td>\n",
       "      <td>1.0</td>\n",
       "      <td>83807.86</td>\n",
       "      <td>1</td>\n",
       "      <td>0</td>\n",
       "      <td>1</td>\n",
       "      <td>112542.58</td>\n",
       "      <td>0</td>\n",
       "    </tr>\n",
       "    <tr>\n",
       "      <th>2</th>\n",
       "      <td>15619304</td>\n",
       "      <td>Onio</td>\n",
       "      <td>502</td>\n",
       "      <td>France</td>\n",
       "      <td>Female</td>\n",
       "      <td>42</td>\n",
       "      <td>8.0</td>\n",
       "      <td>159660.80</td>\n",
       "      <td>3</td>\n",
       "      <td>1</td>\n",
       "      <td>0</td>\n",
       "      <td>113931.57</td>\n",
       "      <td>1</td>\n",
       "    </tr>\n",
       "    <tr>\n",
       "      <th>3</th>\n",
       "      <td>15701354</td>\n",
       "      <td>Boni</td>\n",
       "      <td>699</td>\n",
       "      <td>France</td>\n",
       "      <td>Female</td>\n",
       "      <td>39</td>\n",
       "      <td>1.0</td>\n",
       "      <td>0.00</td>\n",
       "      <td>2</td>\n",
       "      <td>0</td>\n",
       "      <td>0</td>\n",
       "      <td>93826.63</td>\n",
       "      <td>0</td>\n",
       "    </tr>\n",
       "    <tr>\n",
       "      <th>4</th>\n",
       "      <td>15737888</td>\n",
       "      <td>Mitchell</td>\n",
       "      <td>850</td>\n",
       "      <td>Spain</td>\n",
       "      <td>Female</td>\n",
       "      <td>43</td>\n",
       "      <td>2.0</td>\n",
       "      <td>125510.82</td>\n",
       "      <td>1</td>\n",
       "      <td>1</td>\n",
       "      <td>1</td>\n",
       "      <td>79084.10</td>\n",
       "      <td>0</td>\n",
       "    </tr>\n",
       "  </tbody>\n",
       "</table>\n",
       "</div>"
      ],
      "text/plain": [
       "   CustomerId   Surname  CreditScore Geography  Gender  Age  Tenure  \\\n",
       "0    15634602  Hargrave          619    France  Female   42     2.0   \n",
       "1    15647311      Hill          608     Spain  Female   41     1.0   \n",
       "2    15619304      Onio          502    France  Female   42     8.0   \n",
       "3    15701354      Boni          699    France  Female   39     1.0   \n",
       "4    15737888  Mitchell          850     Spain  Female   43     2.0   \n",
       "\n",
       "     Balance  NumOfProducts  HasCrCard  IsActiveMember  EstimatedSalary  \\\n",
       "0       0.00              1          1               1        101348.88   \n",
       "1   83807.86              1          0               1        112542.58   \n",
       "2  159660.80              3          1               0        113931.57   \n",
       "3       0.00              2          0               0         93826.63   \n",
       "4  125510.82              1          1               1         79084.10   \n",
       "\n",
       "   Exited  \n",
       "0       1  \n",
       "1       0  \n",
       "2       1  \n",
       "3       0  \n",
       "4       0  "
      ]
     },
     "execution_count": 6,
     "metadata": {},
     "output_type": "execute_result"
    }
   ],
   "source": [
    "data = data.drop(['RowNumber'], axis=1)\n",
    "data.head()"
   ]
  },
  {
   "cell_type": "markdown",
   "id": "0c218e81",
   "metadata": {},
   "source": [
    "Столбцы с Фамилией `Surname` и с id `CustomerId` никак нам не помогут в обучении модели, поэтому от них тоже избавимся"
   ]
  },
  {
   "cell_type": "code",
   "execution_count": 7,
   "id": "61e7dbfd",
   "metadata": {},
   "outputs": [
    {
     "data": {
      "text/html": [
       "<div>\n",
       "<style scoped>\n",
       "    .dataframe tbody tr th:only-of-type {\n",
       "        vertical-align: middle;\n",
       "    }\n",
       "\n",
       "    .dataframe tbody tr th {\n",
       "        vertical-align: top;\n",
       "    }\n",
       "\n",
       "    .dataframe thead th {\n",
       "        text-align: right;\n",
       "    }\n",
       "</style>\n",
       "<table border=\"1\" class=\"dataframe\">\n",
       "  <thead>\n",
       "    <tr style=\"text-align: right;\">\n",
       "      <th></th>\n",
       "      <th>CreditScore</th>\n",
       "      <th>Geography</th>\n",
       "      <th>Gender</th>\n",
       "      <th>Age</th>\n",
       "      <th>Tenure</th>\n",
       "      <th>Balance</th>\n",
       "      <th>NumOfProducts</th>\n",
       "      <th>HasCrCard</th>\n",
       "      <th>IsActiveMember</th>\n",
       "      <th>EstimatedSalary</th>\n",
       "      <th>Exited</th>\n",
       "    </tr>\n",
       "  </thead>\n",
       "  <tbody>\n",
       "    <tr>\n",
       "      <th>0</th>\n",
       "      <td>619</td>\n",
       "      <td>France</td>\n",
       "      <td>Female</td>\n",
       "      <td>42</td>\n",
       "      <td>2.0</td>\n",
       "      <td>0.00</td>\n",
       "      <td>1</td>\n",
       "      <td>1</td>\n",
       "      <td>1</td>\n",
       "      <td>101348.88</td>\n",
       "      <td>1</td>\n",
       "    </tr>\n",
       "    <tr>\n",
       "      <th>1</th>\n",
       "      <td>608</td>\n",
       "      <td>Spain</td>\n",
       "      <td>Female</td>\n",
       "      <td>41</td>\n",
       "      <td>1.0</td>\n",
       "      <td>83807.86</td>\n",
       "      <td>1</td>\n",
       "      <td>0</td>\n",
       "      <td>1</td>\n",
       "      <td>112542.58</td>\n",
       "      <td>0</td>\n",
       "    </tr>\n",
       "    <tr>\n",
       "      <th>2</th>\n",
       "      <td>502</td>\n",
       "      <td>France</td>\n",
       "      <td>Female</td>\n",
       "      <td>42</td>\n",
       "      <td>8.0</td>\n",
       "      <td>159660.80</td>\n",
       "      <td>3</td>\n",
       "      <td>1</td>\n",
       "      <td>0</td>\n",
       "      <td>113931.57</td>\n",
       "      <td>1</td>\n",
       "    </tr>\n",
       "    <tr>\n",
       "      <th>3</th>\n",
       "      <td>699</td>\n",
       "      <td>France</td>\n",
       "      <td>Female</td>\n",
       "      <td>39</td>\n",
       "      <td>1.0</td>\n",
       "      <td>0.00</td>\n",
       "      <td>2</td>\n",
       "      <td>0</td>\n",
       "      <td>0</td>\n",
       "      <td>93826.63</td>\n",
       "      <td>0</td>\n",
       "    </tr>\n",
       "    <tr>\n",
       "      <th>4</th>\n",
       "      <td>850</td>\n",
       "      <td>Spain</td>\n",
       "      <td>Female</td>\n",
       "      <td>43</td>\n",
       "      <td>2.0</td>\n",
       "      <td>125510.82</td>\n",
       "      <td>1</td>\n",
       "      <td>1</td>\n",
       "      <td>1</td>\n",
       "      <td>79084.10</td>\n",
       "      <td>0</td>\n",
       "    </tr>\n",
       "  </tbody>\n",
       "</table>\n",
       "</div>"
      ],
      "text/plain": [
       "   CreditScore Geography  Gender  Age  Tenure    Balance  NumOfProducts  \\\n",
       "0          619    France  Female   42     2.0       0.00              1   \n",
       "1          608     Spain  Female   41     1.0   83807.86              1   \n",
       "2          502    France  Female   42     8.0  159660.80              3   \n",
       "3          699    France  Female   39     1.0       0.00              2   \n",
       "4          850     Spain  Female   43     2.0  125510.82              1   \n",
       "\n",
       "   HasCrCard  IsActiveMember  EstimatedSalary  Exited  \n",
       "0          1               1        101348.88       1  \n",
       "1          0               1        112542.58       0  \n",
       "2          1               0        113931.57       1  \n",
       "3          0               0         93826.63       0  \n",
       "4          1               1         79084.10       0  "
      ]
     },
     "execution_count": 7,
     "metadata": {},
     "output_type": "execute_result"
    }
   ],
   "source": [
    "data = data.drop(['Surname'], axis=1)\n",
    "data = data.drop(['CustomerId'], axis=1)\n",
    "data.head()"
   ]
  },
  {
   "cell_type": "markdown",
   "id": "7e973299",
   "metadata": {},
   "source": [
    "Приведем названия столбцов к нижнему 'змеиному' регистру."
   ]
  },
  {
   "cell_type": "code",
   "execution_count": 8,
   "id": "4cff1281",
   "metadata": {},
   "outputs": [
    {
     "data": {
      "text/html": [
       "<div>\n",
       "<style scoped>\n",
       "    .dataframe tbody tr th:only-of-type {\n",
       "        vertical-align: middle;\n",
       "    }\n",
       "\n",
       "    .dataframe tbody tr th {\n",
       "        vertical-align: top;\n",
       "    }\n",
       "\n",
       "    .dataframe thead th {\n",
       "        text-align: right;\n",
       "    }\n",
       "</style>\n",
       "<table border=\"1\" class=\"dataframe\">\n",
       "  <thead>\n",
       "    <tr style=\"text-align: right;\">\n",
       "      <th></th>\n",
       "      <th>credit_score</th>\n",
       "      <th>geography</th>\n",
       "      <th>gender</th>\n",
       "      <th>age</th>\n",
       "      <th>tenure</th>\n",
       "      <th>balance</th>\n",
       "      <th>num_of_products</th>\n",
       "      <th>has_cr_card</th>\n",
       "      <th>is_active_member</th>\n",
       "      <th>estimated_salary</th>\n",
       "      <th>exited</th>\n",
       "    </tr>\n",
       "  </thead>\n",
       "  <tbody>\n",
       "    <tr>\n",
       "      <th>0</th>\n",
       "      <td>619</td>\n",
       "      <td>France</td>\n",
       "      <td>Female</td>\n",
       "      <td>42</td>\n",
       "      <td>2.0</td>\n",
       "      <td>0.00</td>\n",
       "      <td>1</td>\n",
       "      <td>1</td>\n",
       "      <td>1</td>\n",
       "      <td>101348.88</td>\n",
       "      <td>1</td>\n",
       "    </tr>\n",
       "    <tr>\n",
       "      <th>1</th>\n",
       "      <td>608</td>\n",
       "      <td>Spain</td>\n",
       "      <td>Female</td>\n",
       "      <td>41</td>\n",
       "      <td>1.0</td>\n",
       "      <td>83807.86</td>\n",
       "      <td>1</td>\n",
       "      <td>0</td>\n",
       "      <td>1</td>\n",
       "      <td>112542.58</td>\n",
       "      <td>0</td>\n",
       "    </tr>\n",
       "    <tr>\n",
       "      <th>2</th>\n",
       "      <td>502</td>\n",
       "      <td>France</td>\n",
       "      <td>Female</td>\n",
       "      <td>42</td>\n",
       "      <td>8.0</td>\n",
       "      <td>159660.80</td>\n",
       "      <td>3</td>\n",
       "      <td>1</td>\n",
       "      <td>0</td>\n",
       "      <td>113931.57</td>\n",
       "      <td>1</td>\n",
       "    </tr>\n",
       "    <tr>\n",
       "      <th>3</th>\n",
       "      <td>699</td>\n",
       "      <td>France</td>\n",
       "      <td>Female</td>\n",
       "      <td>39</td>\n",
       "      <td>1.0</td>\n",
       "      <td>0.00</td>\n",
       "      <td>2</td>\n",
       "      <td>0</td>\n",
       "      <td>0</td>\n",
       "      <td>93826.63</td>\n",
       "      <td>0</td>\n",
       "    </tr>\n",
       "    <tr>\n",
       "      <th>4</th>\n",
       "      <td>850</td>\n",
       "      <td>Spain</td>\n",
       "      <td>Female</td>\n",
       "      <td>43</td>\n",
       "      <td>2.0</td>\n",
       "      <td>125510.82</td>\n",
       "      <td>1</td>\n",
       "      <td>1</td>\n",
       "      <td>1</td>\n",
       "      <td>79084.10</td>\n",
       "      <td>0</td>\n",
       "    </tr>\n",
       "  </tbody>\n",
       "</table>\n",
       "</div>"
      ],
      "text/plain": [
       "   credit_score geography  gender  age  tenure    balance  num_of_products  \\\n",
       "0           619    France  Female   42     2.0       0.00                1   \n",
       "1           608     Spain  Female   41     1.0   83807.86                1   \n",
       "2           502    France  Female   42     8.0  159660.80                3   \n",
       "3           699    France  Female   39     1.0       0.00                2   \n",
       "4           850     Spain  Female   43     2.0  125510.82                1   \n",
       "\n",
       "   has_cr_card  is_active_member  estimated_salary  exited  \n",
       "0            1                 1         101348.88       1  \n",
       "1            0                 1         112542.58       0  \n",
       "2            1                 0         113931.57       1  \n",
       "3            0                 0          93826.63       0  \n",
       "4            1                 1          79084.10       0  "
      ]
     },
     "execution_count": 8,
     "metadata": {},
     "output_type": "execute_result"
    }
   ],
   "source": [
    "data.columns = [\n",
    "    'credit_score',\n",
    "    'geography',\n",
    "    'gender',\n",
    "    'age',\n",
    "    'tenure',\n",
    "    'balance',\n",
    "    'num_of_products',\n",
    "    'has_cr_card',\n",
    "    'is_active_member',\n",
    "    'estimated_salary',\n",
    "    'exited'\n",
    "]\n",
    "data.head()"
   ]
  },
  {
   "cell_type": "code",
   "execution_count": 9,
   "id": "fe86e9e1",
   "metadata": {},
   "outputs": [
    {
     "data": {
      "text/plain": [
       "850"
      ]
     },
     "execution_count": 9,
     "metadata": {},
     "output_type": "execute_result"
    }
   ],
   "source": [
    "data['credit_score'].max()"
   ]
  },
  {
   "cell_type": "markdown",
   "id": "5865ecf4",
   "metadata": {},
   "source": [
    "Преобразуем столбец `credit_score` в более экономичный с точки зрения памяти тип данных `int16`, столбец `age` в `int8`"
   ]
  },
  {
   "cell_type": "code",
   "execution_count": 10,
   "id": "d2575db0",
   "metadata": {},
   "outputs": [],
   "source": [
    "data['credit_score'] = data['credit_score'].astype('int16')"
   ]
  },
  {
   "cell_type": "code",
   "execution_count": 11,
   "id": "a22a9aea",
   "metadata": {},
   "outputs": [
    {
     "data": {
      "text/plain": [
       "92"
      ]
     },
     "execution_count": 11,
     "metadata": {},
     "output_type": "execute_result"
    }
   ],
   "source": [
    "data['age'].max()"
   ]
  },
  {
   "cell_type": "code",
   "execution_count": 12,
   "id": "42c98c7c",
   "metadata": {},
   "outputs": [],
   "source": [
    "data['age'] = data['age'].astype('int8')"
   ]
  },
  {
   "cell_type": "code",
   "execution_count": 13,
   "id": "15ea2392",
   "metadata": {
    "scrolled": true
   },
   "outputs": [
    {
     "name": "stdout",
     "output_type": "stream",
     "text": [
      "<class 'pandas.core.frame.DataFrame'>\n",
      "RangeIndex: 10000 entries, 0 to 9999\n",
      "Data columns (total 11 columns):\n",
      " #   Column            Non-Null Count  Dtype  \n",
      "---  ------            --------------  -----  \n",
      " 0   credit_score      10000 non-null  int16  \n",
      " 1   geography         10000 non-null  object \n",
      " 2   gender            10000 non-null  object \n",
      " 3   age               10000 non-null  int8   \n",
      " 4   tenure            9091 non-null   float64\n",
      " 5   balance           10000 non-null  float64\n",
      " 6   num_of_products   10000 non-null  int64  \n",
      " 7   has_cr_card       10000 non-null  int64  \n",
      " 8   is_active_member  10000 non-null  int64  \n",
      " 9   estimated_salary  10000 non-null  float64\n",
      " 10  exited            10000 non-null  int64  \n",
      "dtypes: float64(3), int16(1), int64(4), int8(1), object(2)\n",
      "memory usage: 732.5+ KB\n"
     ]
    }
   ],
   "source": [
    "data.info()"
   ]
  },
  {
   "cell_type": "code",
   "execution_count": 14,
   "id": "0cc2d922",
   "metadata": {},
   "outputs": [
    {
     "data": {
      "text/plain": [
       "1.0     952\n",
       "2.0     950\n",
       "8.0     933\n",
       "3.0     928\n",
       "5.0     927\n",
       "7.0     925\n",
       "4.0     885\n",
       "9.0     882\n",
       "6.0     881\n",
       "10.0    446\n",
       "0.0     382\n",
       "Name: tenure, dtype: int64"
      ]
     },
     "execution_count": 14,
     "metadata": {},
     "output_type": "execute_result"
    }
   ],
   "source": [
    "data['tenure'].value_counts()"
   ]
  },
  {
   "cell_type": "code",
   "execution_count": 15,
   "id": "59230783",
   "metadata": {
    "scrolled": true
   },
   "outputs": [
    {
     "data": {
      "text/plain": [
       "909"
      ]
     },
     "execution_count": 15,
     "metadata": {},
     "output_type": "execute_result"
    }
   ],
   "source": [
    "data['tenure'].isna().sum()"
   ]
  },
  {
   "cell_type": "code",
   "execution_count": 16,
   "id": "80ea83f1",
   "metadata": {},
   "outputs": [
    {
     "data": {
      "text/html": [
       "<div>\n",
       "<style scoped>\n",
       "    .dataframe tbody tr th:only-of-type {\n",
       "        vertical-align: middle;\n",
       "    }\n",
       "\n",
       "    .dataframe tbody tr th {\n",
       "        vertical-align: top;\n",
       "    }\n",
       "\n",
       "    .dataframe thead th {\n",
       "        text-align: right;\n",
       "    }\n",
       "</style>\n",
       "<table border=\"1\" class=\"dataframe\">\n",
       "  <thead>\n",
       "    <tr style=\"text-align: right;\">\n",
       "      <th></th>\n",
       "      <th>credit_score</th>\n",
       "      <th>geography</th>\n",
       "      <th>gender</th>\n",
       "      <th>age</th>\n",
       "      <th>tenure</th>\n",
       "      <th>balance</th>\n",
       "      <th>num_of_products</th>\n",
       "      <th>has_cr_card</th>\n",
       "      <th>is_active_member</th>\n",
       "      <th>estimated_salary</th>\n",
       "      <th>exited</th>\n",
       "    </tr>\n",
       "  </thead>\n",
       "  <tbody>\n",
       "    <tr>\n",
       "      <th>30</th>\n",
       "      <td>591</td>\n",
       "      <td>Spain</td>\n",
       "      <td>Female</td>\n",
       "      <td>39</td>\n",
       "      <td>NaN</td>\n",
       "      <td>0.00</td>\n",
       "      <td>3</td>\n",
       "      <td>1</td>\n",
       "      <td>0</td>\n",
       "      <td>140469.38</td>\n",
       "      <td>1</td>\n",
       "    </tr>\n",
       "    <tr>\n",
       "      <th>48</th>\n",
       "      <td>550</td>\n",
       "      <td>Germany</td>\n",
       "      <td>Male</td>\n",
       "      <td>38</td>\n",
       "      <td>NaN</td>\n",
       "      <td>103391.38</td>\n",
       "      <td>1</td>\n",
       "      <td>0</td>\n",
       "      <td>1</td>\n",
       "      <td>90878.13</td>\n",
       "      <td>0</td>\n",
       "    </tr>\n",
       "    <tr>\n",
       "      <th>51</th>\n",
       "      <td>585</td>\n",
       "      <td>Germany</td>\n",
       "      <td>Male</td>\n",
       "      <td>36</td>\n",
       "      <td>NaN</td>\n",
       "      <td>146050.97</td>\n",
       "      <td>2</td>\n",
       "      <td>0</td>\n",
       "      <td>0</td>\n",
       "      <td>86424.57</td>\n",
       "      <td>0</td>\n",
       "    </tr>\n",
       "    <tr>\n",
       "      <th>53</th>\n",
       "      <td>655</td>\n",
       "      <td>Germany</td>\n",
       "      <td>Male</td>\n",
       "      <td>41</td>\n",
       "      <td>NaN</td>\n",
       "      <td>125561.97</td>\n",
       "      <td>1</td>\n",
       "      <td>0</td>\n",
       "      <td>0</td>\n",
       "      <td>164040.94</td>\n",
       "      <td>1</td>\n",
       "    </tr>\n",
       "    <tr>\n",
       "      <th>60</th>\n",
       "      <td>742</td>\n",
       "      <td>Germany</td>\n",
       "      <td>Male</td>\n",
       "      <td>35</td>\n",
       "      <td>NaN</td>\n",
       "      <td>136857.00</td>\n",
       "      <td>1</td>\n",
       "      <td>0</td>\n",
       "      <td>0</td>\n",
       "      <td>84509.57</td>\n",
       "      <td>0</td>\n",
       "    </tr>\n",
       "    <tr>\n",
       "      <th>...</th>\n",
       "      <td>...</td>\n",
       "      <td>...</td>\n",
       "      <td>...</td>\n",
       "      <td>...</td>\n",
       "      <td>...</td>\n",
       "      <td>...</td>\n",
       "      <td>...</td>\n",
       "      <td>...</td>\n",
       "      <td>...</td>\n",
       "      <td>...</td>\n",
       "      <td>...</td>\n",
       "    </tr>\n",
       "    <tr>\n",
       "      <th>9944</th>\n",
       "      <td>744</td>\n",
       "      <td>Germany</td>\n",
       "      <td>Male</td>\n",
       "      <td>41</td>\n",
       "      <td>NaN</td>\n",
       "      <td>190409.34</td>\n",
       "      <td>2</td>\n",
       "      <td>1</td>\n",
       "      <td>1</td>\n",
       "      <td>138361.48</td>\n",
       "      <td>0</td>\n",
       "    </tr>\n",
       "    <tr>\n",
       "      <th>9956</th>\n",
       "      <td>520</td>\n",
       "      <td>France</td>\n",
       "      <td>Female</td>\n",
       "      <td>46</td>\n",
       "      <td>NaN</td>\n",
       "      <td>85216.61</td>\n",
       "      <td>1</td>\n",
       "      <td>1</td>\n",
       "      <td>0</td>\n",
       "      <td>117369.52</td>\n",
       "      <td>1</td>\n",
       "    </tr>\n",
       "    <tr>\n",
       "      <th>9964</th>\n",
       "      <td>479</td>\n",
       "      <td>France</td>\n",
       "      <td>Male</td>\n",
       "      <td>34</td>\n",
       "      <td>NaN</td>\n",
       "      <td>117593.48</td>\n",
       "      <td>2</td>\n",
       "      <td>0</td>\n",
       "      <td>0</td>\n",
       "      <td>113308.29</td>\n",
       "      <td>0</td>\n",
       "    </tr>\n",
       "    <tr>\n",
       "      <th>9985</th>\n",
       "      <td>659</td>\n",
       "      <td>France</td>\n",
       "      <td>Male</td>\n",
       "      <td>36</td>\n",
       "      <td>NaN</td>\n",
       "      <td>123841.49</td>\n",
       "      <td>2</td>\n",
       "      <td>1</td>\n",
       "      <td>0</td>\n",
       "      <td>96833.00</td>\n",
       "      <td>0</td>\n",
       "    </tr>\n",
       "    <tr>\n",
       "      <th>9999</th>\n",
       "      <td>792</td>\n",
       "      <td>France</td>\n",
       "      <td>Female</td>\n",
       "      <td>28</td>\n",
       "      <td>NaN</td>\n",
       "      <td>130142.79</td>\n",
       "      <td>1</td>\n",
       "      <td>1</td>\n",
       "      <td>0</td>\n",
       "      <td>38190.78</td>\n",
       "      <td>0</td>\n",
       "    </tr>\n",
       "  </tbody>\n",
       "</table>\n",
       "<p>909 rows × 11 columns</p>\n",
       "</div>"
      ],
      "text/plain": [
       "      credit_score geography  gender  age  tenure    balance  num_of_products  \\\n",
       "30             591     Spain  Female   39     NaN       0.00                3   \n",
       "48             550   Germany    Male   38     NaN  103391.38                1   \n",
       "51             585   Germany    Male   36     NaN  146050.97                2   \n",
       "53             655   Germany    Male   41     NaN  125561.97                1   \n",
       "60             742   Germany    Male   35     NaN  136857.00                1   \n",
       "...            ...       ...     ...  ...     ...        ...              ...   \n",
       "9944           744   Germany    Male   41     NaN  190409.34                2   \n",
       "9956           520    France  Female   46     NaN   85216.61                1   \n",
       "9964           479    France    Male   34     NaN  117593.48                2   \n",
       "9985           659    France    Male   36     NaN  123841.49                2   \n",
       "9999           792    France  Female   28     NaN  130142.79                1   \n",
       "\n",
       "      has_cr_card  is_active_member  estimated_salary  exited  \n",
       "30              1                 0         140469.38       1  \n",
       "48              0                 1          90878.13       0  \n",
       "51              0                 0          86424.57       0  \n",
       "53              0                 0         164040.94       1  \n",
       "60              0                 0          84509.57       0  \n",
       "...           ...               ...               ...     ...  \n",
       "9944            1                 1         138361.48       0  \n",
       "9956            1                 0         117369.52       1  \n",
       "9964            0                 0         113308.29       0  \n",
       "9985            1                 0          96833.00       0  \n",
       "9999            1                 0          38190.78       0  \n",
       "\n",
       "[909 rows x 11 columns]"
      ]
     },
     "execution_count": 16,
     "metadata": {},
     "output_type": "execute_result"
    }
   ],
   "source": [
    "data[data['tenure'].isna()]"
   ]
  },
  {
   "cell_type": "markdown",
   "id": "d1a8d1dc",
   "metadata": {},
   "source": [
    "Скорее всего пропуски появились из-за технической ошибки или незаполненности данных нулями. Заполним значения NaN медианой."
   ]
  },
  {
   "cell_type": "code",
   "execution_count": 17,
   "id": "5c129f49",
   "metadata": {},
   "outputs": [],
   "source": [
    "data['tenure'] = data['tenure'].fillna(value=data['tenure'].median())"
   ]
  },
  {
   "cell_type": "code",
   "execution_count": 18,
   "id": "b53b1f67",
   "metadata": {},
   "outputs": [
    {
     "data": {
      "text/plain": [
       "credit_score        0\n",
       "geography           0\n",
       "gender              0\n",
       "age                 0\n",
       "tenure              0\n",
       "balance             0\n",
       "num_of_products     0\n",
       "has_cr_card         0\n",
       "is_active_member    0\n",
       "estimated_salary    0\n",
       "exited              0\n",
       "dtype: int64"
      ]
     },
     "execution_count": 18,
     "metadata": {},
     "output_type": "execute_result"
    }
   ],
   "source": [
    "data.isna().sum()"
   ]
  },
  {
   "cell_type": "markdown",
   "id": "be922b1e",
   "metadata": {},
   "source": [
    "Столбец tenure (сколько лет человек является клиентом банка) содержит в себе только целочисленные значения, а значит и его можно преобразовать к более эффективному типу данных."
   ]
  },
  {
   "cell_type": "code",
   "execution_count": 19,
   "id": "2bfd1f6e",
   "metadata": {},
   "outputs": [],
   "source": [
    "data['tenure'] = data['tenure'].astype('int8')"
   ]
  },
  {
   "cell_type": "code",
   "execution_count": 20,
   "id": "d8e9e55b",
   "metadata": {},
   "outputs": [
    {
     "data": {
      "text/plain": [
       "4"
      ]
     },
     "execution_count": 20,
     "metadata": {},
     "output_type": "execute_result"
    }
   ],
   "source": [
    "data['num_of_products'].max()"
   ]
  },
  {
   "cell_type": "code",
   "execution_count": 21,
   "id": "f7894e2b",
   "metadata": {},
   "outputs": [],
   "source": [
    "data['num_of_products'] = data['num_of_products'].astype('int8')"
   ]
  },
  {
   "cell_type": "markdown",
   "id": "61cc672c",
   "metadata": {},
   "source": [
    "Столбец `has_a_card` содержит в себе только значения 1 или 0, заменим его тип данных на `int8` (хотя можем и на bool, с точки зрения памяти - разницы не будет, с математической точки зрения для python тоже разницы нет). Аналогично и столбец `is_active_member` и `exited`."
   ]
  },
  {
   "cell_type": "code",
   "execution_count": 22,
   "id": "c5768722",
   "metadata": {},
   "outputs": [],
   "source": [
    "data['has_cr_card'] = data['has_cr_card'].astype('int8')"
   ]
  },
  {
   "cell_type": "code",
   "execution_count": 23,
   "id": "3ba85653",
   "metadata": {},
   "outputs": [],
   "source": [
    "data['is_active_member'] = data['is_active_member'].astype('int8')"
   ]
  },
  {
   "cell_type": "code",
   "execution_count": 24,
   "id": "c324e497",
   "metadata": {},
   "outputs": [],
   "source": [
    "data['exited'] = data['exited'].astype('int8')"
   ]
  },
  {
   "cell_type": "markdown",
   "id": "7a9ef637",
   "metadata": {},
   "source": [
    "Проверим на наличие дубликатов"
   ]
  },
  {
   "cell_type": "code",
   "execution_count": 25,
   "id": "67aea0c5",
   "metadata": {},
   "outputs": [
    {
     "data": {
      "text/plain": [
       "0"
      ]
     },
     "execution_count": 25,
     "metadata": {},
     "output_type": "execute_result"
    }
   ],
   "source": [
    "data.duplicated().sum()"
   ]
  },
  {
   "cell_type": "code",
   "execution_count": 26,
   "id": "70166dfc",
   "metadata": {},
   "outputs": [
    {
     "name": "stdout",
     "output_type": "stream",
     "text": [
      "<class 'pandas.core.frame.DataFrame'>\n",
      "RangeIndex: 10000 entries, 0 to 9999\n",
      "Data columns (total 11 columns):\n",
      " #   Column            Non-Null Count  Dtype  \n",
      "---  ------            --------------  -----  \n",
      " 0   credit_score      10000 non-null  int16  \n",
      " 1   geography         10000 non-null  object \n",
      " 2   gender            10000 non-null  object \n",
      " 3   age               10000 non-null  int8   \n",
      " 4   tenure            10000 non-null  int8   \n",
      " 5   balance           10000 non-null  float64\n",
      " 6   num_of_products   10000 non-null  int8   \n",
      " 7   has_cr_card       10000 non-null  int8   \n",
      " 8   is_active_member  10000 non-null  int8   \n",
      " 9   estimated_salary  10000 non-null  float64\n",
      " 10  exited            10000 non-null  int8   \n",
      "dtypes: float64(2), int16(1), int8(6), object(2)\n",
      "memory usage: 390.8+ KB\n"
     ]
    }
   ],
   "source": [
    "data.info()"
   ]
  },
  {
   "cell_type": "markdown",
   "id": "d9cb9b7d",
   "metadata": {},
   "source": [
    "Удалось сократить использование памяти более чем в 2 раза."
   ]
  },
  {
   "cell_type": "markdown",
   "id": "8dbb4a84",
   "metadata": {},
   "source": [
    "## Исследование баланса классов"
   ]
  },
  {
   "cell_type": "markdown",
   "id": "1ac074d2",
   "metadata": {},
   "source": [
    "У нас было несколько категориальных переменных - gender, geography, has_cr_card, is_active_member, exited. Посмотрим на их распределения"
   ]
  },
  {
   "cell_type": "code",
   "execution_count": 29,
   "id": "84bbb8a1",
   "metadata": {},
   "outputs": [
    {
     "data": {
      "text/plain": [
       "0    7963\n",
       "1    2037\n",
       "Name: exited, dtype: int64"
      ]
     },
     "execution_count": 29,
     "metadata": {},
     "output_type": "execute_result"
    }
   ],
   "source": [
    "data['exited'].value_counts()"
   ]
  },
  {
   "cell_type": "markdown",
   "id": "e6051626",
   "metadata": {},
   "source": [
    "Классы в `exited` имеют сильный дисбаланс (соотношение 4:1)."
   ]
  },
  {
   "cell_type": "markdown",
   "id": "39a2ceae",
   "metadata": {},
   "source": [
    "## Обучение модели"
   ]
  },
  {
   "cell_type": "markdown",
   "id": "a1982682",
   "metadata": {},
   "source": [
    "Требуется получить модель с F1-мерой >= 0.59"
   ]
  },
  {
   "cell_type": "markdown",
   "id": "55b4a9f1",
   "metadata": {},
   "source": [
    "### Кодирование категориальных переменных"
   ]
  },
  {
   "cell_type": "code",
   "execution_count": 30,
   "id": "a4af589f",
   "metadata": {},
   "outputs": [
    {
     "data": {
      "text/html": [
       "<div>\n",
       "<style scoped>\n",
       "    .dataframe tbody tr th:only-of-type {\n",
       "        vertical-align: middle;\n",
       "    }\n",
       "\n",
       "    .dataframe tbody tr th {\n",
       "        vertical-align: top;\n",
       "    }\n",
       "\n",
       "    .dataframe thead th {\n",
       "        text-align: right;\n",
       "    }\n",
       "</style>\n",
       "<table border=\"1\" class=\"dataframe\">\n",
       "  <thead>\n",
       "    <tr style=\"text-align: right;\">\n",
       "      <th></th>\n",
       "      <th>credit_score</th>\n",
       "      <th>geography</th>\n",
       "      <th>gender</th>\n",
       "      <th>age</th>\n",
       "      <th>tenure</th>\n",
       "      <th>balance</th>\n",
       "      <th>num_of_products</th>\n",
       "      <th>has_cr_card</th>\n",
       "      <th>is_active_member</th>\n",
       "      <th>estimated_salary</th>\n",
       "    </tr>\n",
       "  </thead>\n",
       "  <tbody>\n",
       "    <tr>\n",
       "      <th>0</th>\n",
       "      <td>619</td>\n",
       "      <td>France</td>\n",
       "      <td>Female</td>\n",
       "      <td>42</td>\n",
       "      <td>2</td>\n",
       "      <td>0.00</td>\n",
       "      <td>1</td>\n",
       "      <td>1</td>\n",
       "      <td>1</td>\n",
       "      <td>101348.88</td>\n",
       "    </tr>\n",
       "    <tr>\n",
       "      <th>1</th>\n",
       "      <td>608</td>\n",
       "      <td>Spain</td>\n",
       "      <td>Female</td>\n",
       "      <td>41</td>\n",
       "      <td>1</td>\n",
       "      <td>83807.86</td>\n",
       "      <td>1</td>\n",
       "      <td>0</td>\n",
       "      <td>1</td>\n",
       "      <td>112542.58</td>\n",
       "    </tr>\n",
       "    <tr>\n",
       "      <th>2</th>\n",
       "      <td>502</td>\n",
       "      <td>France</td>\n",
       "      <td>Female</td>\n",
       "      <td>42</td>\n",
       "      <td>8</td>\n",
       "      <td>159660.80</td>\n",
       "      <td>3</td>\n",
       "      <td>1</td>\n",
       "      <td>0</td>\n",
       "      <td>113931.57</td>\n",
       "    </tr>\n",
       "    <tr>\n",
       "      <th>3</th>\n",
       "      <td>699</td>\n",
       "      <td>France</td>\n",
       "      <td>Female</td>\n",
       "      <td>39</td>\n",
       "      <td>1</td>\n",
       "      <td>0.00</td>\n",
       "      <td>2</td>\n",
       "      <td>0</td>\n",
       "      <td>0</td>\n",
       "      <td>93826.63</td>\n",
       "    </tr>\n",
       "    <tr>\n",
       "      <th>4</th>\n",
       "      <td>850</td>\n",
       "      <td>Spain</td>\n",
       "      <td>Female</td>\n",
       "      <td>43</td>\n",
       "      <td>2</td>\n",
       "      <td>125510.82</td>\n",
       "      <td>1</td>\n",
       "      <td>1</td>\n",
       "      <td>1</td>\n",
       "      <td>79084.10</td>\n",
       "    </tr>\n",
       "    <tr>\n",
       "      <th>...</th>\n",
       "      <td>...</td>\n",
       "      <td>...</td>\n",
       "      <td>...</td>\n",
       "      <td>...</td>\n",
       "      <td>...</td>\n",
       "      <td>...</td>\n",
       "      <td>...</td>\n",
       "      <td>...</td>\n",
       "      <td>...</td>\n",
       "      <td>...</td>\n",
       "    </tr>\n",
       "    <tr>\n",
       "      <th>9995</th>\n",
       "      <td>771</td>\n",
       "      <td>France</td>\n",
       "      <td>Male</td>\n",
       "      <td>39</td>\n",
       "      <td>5</td>\n",
       "      <td>0.00</td>\n",
       "      <td>2</td>\n",
       "      <td>1</td>\n",
       "      <td>0</td>\n",
       "      <td>96270.64</td>\n",
       "    </tr>\n",
       "    <tr>\n",
       "      <th>9996</th>\n",
       "      <td>516</td>\n",
       "      <td>France</td>\n",
       "      <td>Male</td>\n",
       "      <td>35</td>\n",
       "      <td>10</td>\n",
       "      <td>57369.61</td>\n",
       "      <td>1</td>\n",
       "      <td>1</td>\n",
       "      <td>1</td>\n",
       "      <td>101699.77</td>\n",
       "    </tr>\n",
       "    <tr>\n",
       "      <th>9997</th>\n",
       "      <td>709</td>\n",
       "      <td>France</td>\n",
       "      <td>Female</td>\n",
       "      <td>36</td>\n",
       "      <td>7</td>\n",
       "      <td>0.00</td>\n",
       "      <td>1</td>\n",
       "      <td>0</td>\n",
       "      <td>1</td>\n",
       "      <td>42085.58</td>\n",
       "    </tr>\n",
       "    <tr>\n",
       "      <th>9998</th>\n",
       "      <td>772</td>\n",
       "      <td>Germany</td>\n",
       "      <td>Male</td>\n",
       "      <td>42</td>\n",
       "      <td>3</td>\n",
       "      <td>75075.31</td>\n",
       "      <td>2</td>\n",
       "      <td>1</td>\n",
       "      <td>0</td>\n",
       "      <td>92888.52</td>\n",
       "    </tr>\n",
       "    <tr>\n",
       "      <th>9999</th>\n",
       "      <td>792</td>\n",
       "      <td>France</td>\n",
       "      <td>Female</td>\n",
       "      <td>28</td>\n",
       "      <td>5</td>\n",
       "      <td>130142.79</td>\n",
       "      <td>1</td>\n",
       "      <td>1</td>\n",
       "      <td>0</td>\n",
       "      <td>38190.78</td>\n",
       "    </tr>\n",
       "  </tbody>\n",
       "</table>\n",
       "<p>10000 rows × 10 columns</p>\n",
       "</div>"
      ],
      "text/plain": [
       "      credit_score geography  gender  age  tenure    balance  num_of_products  \\\n",
       "0              619    France  Female   42       2       0.00                1   \n",
       "1              608     Spain  Female   41       1   83807.86                1   \n",
       "2              502    France  Female   42       8  159660.80                3   \n",
       "3              699    France  Female   39       1       0.00                2   \n",
       "4              850     Spain  Female   43       2  125510.82                1   \n",
       "...            ...       ...     ...  ...     ...        ...              ...   \n",
       "9995           771    France    Male   39       5       0.00                2   \n",
       "9996           516    France    Male   35      10   57369.61                1   \n",
       "9997           709    France  Female   36       7       0.00                1   \n",
       "9998           772   Germany    Male   42       3   75075.31                2   \n",
       "9999           792    France  Female   28       5  130142.79                1   \n",
       "\n",
       "      has_cr_card  is_active_member  estimated_salary  \n",
       "0               1                 1         101348.88  \n",
       "1               0                 1         112542.58  \n",
       "2               1                 0         113931.57  \n",
       "3               0                 0          93826.63  \n",
       "4               1                 1          79084.10  \n",
       "...           ...               ...               ...  \n",
       "9995            1                 0          96270.64  \n",
       "9996            1                 1         101699.77  \n",
       "9997            0                 1          42085.58  \n",
       "9998            1                 0          92888.52  \n",
       "9999            1                 0          38190.78  \n",
       "\n",
       "[10000 rows x 10 columns]"
      ]
     },
     "execution_count": 30,
     "metadata": {},
     "output_type": "execute_result"
    }
   ],
   "source": [
    "target = data['exited']\n",
    "features = data.drop('exited', axis=1)\n",
    "features"
   ]
  },
  {
   "cell_type": "markdown",
   "id": "8457f9a7",
   "metadata": {},
   "source": [
    "Разделяем выборку на 3 части: обучающую, тестовую и валидационную в соотношениях 3:1:1."
   ]
  },
  {
   "cell_type": "code",
   "execution_count": 31,
   "id": "21da9129",
   "metadata": {},
   "outputs": [
    {
     "name": "stdout",
     "output_type": "stream",
     "text": [
      "train: (6000, 10) (6000,)\n",
      "train: (2000, 10) (2000,)\n",
      "train: (2000, 10) (2000,)\n"
     ]
    }
   ],
   "source": [
    "features_train, features_tv, target_train, target_tv = train_test_split(\n",
    "    features, target, test_size=0.4, random_state=12345)\n",
    "\n",
    "print('train:',features_train.shape, target_train.shape)\n",
    "\n",
    "features_test, features_valid, target_test, target_valid = train_test_split(\n",
    "    features_tv, target_tv, test_size=0.5, random_state=12345)\n",
    "\n",
    "print('train:',features_test.shape, target_test.shape)\n",
    "print('train:',features_valid.shape, target_valid.shape)"
   ]
  },
  {
   "cell_type": "markdown",
   "id": "6970bf0d",
   "metadata": {},
   "source": [
    "Применим OneHotEncoding для кодирования категориальных переменных."
   ]
  },
  {
   "cell_type": "markdown",
   "id": "af8b1341",
   "metadata": {},
   "source": [
    "Функция для кодирования категориальных переменных."
   ]
  },
  {
   "cell_type": "code",
   "execution_count": 38,
   "id": "dafc2a16",
   "metadata": {},
   "outputs": [],
   "source": [
    "enc = OneHotEncoder(sparse=False, drop='first')\n",
    "enc_2 = OneHotEncoder(sparse=False, drop='first')\n",
    "\n",
    "enc.fit(features_train[['geography']])\n",
    "enc_2.fit(features_train[['gender']])\n",
    "\n",
    "def ohe_coding(features, encoder, encoder_2):\n",
    "    \n",
    "    enc = pd.DataFrame(encoder.transform(features[['geography']]), \n",
    "             columns=encoder.categories_[0][1:], index=features.index)\n",
    "    features = features.join(enc).drop('geography', axis=1)\n",
    "\n",
    "\n",
    "    enc_2 = pd.DataFrame(encoder_2.transform(features[['gender']]), \n",
    "             columns=encoder_2.categories_[0][1:], index=features.index)\n",
    "    features = features.join(enc_2).drop('gender', axis=1)\n",
    "    return features"
   ]
  },
  {
   "cell_type": "code",
   "execution_count": 39,
   "id": "34195435",
   "metadata": {},
   "outputs": [
    {
     "data": {
      "text/html": [
       "<div>\n",
       "<style scoped>\n",
       "    .dataframe tbody tr th:only-of-type {\n",
       "        vertical-align: middle;\n",
       "    }\n",
       "\n",
       "    .dataframe tbody tr th {\n",
       "        vertical-align: top;\n",
       "    }\n",
       "\n",
       "    .dataframe thead th {\n",
       "        text-align: right;\n",
       "    }\n",
       "</style>\n",
       "<table border=\"1\" class=\"dataframe\">\n",
       "  <thead>\n",
       "    <tr style=\"text-align: right;\">\n",
       "      <th></th>\n",
       "      <th>credit_score</th>\n",
       "      <th>age</th>\n",
       "      <th>tenure</th>\n",
       "      <th>balance</th>\n",
       "      <th>num_of_products</th>\n",
       "      <th>has_cr_card</th>\n",
       "      <th>is_active_member</th>\n",
       "      <th>estimated_salary</th>\n",
       "      <th>Germany</th>\n",
       "      <th>Spain</th>\n",
       "      <th>Male</th>\n",
       "    </tr>\n",
       "  </thead>\n",
       "  <tbody>\n",
       "    <tr>\n",
       "      <th>7479</th>\n",
       "      <td>567</td>\n",
       "      <td>35</td>\n",
       "      <td>8</td>\n",
       "      <td>153137.74</td>\n",
       "      <td>1</td>\n",
       "      <td>1</td>\n",
       "      <td>0</td>\n",
       "      <td>88659.07</td>\n",
       "      <td>0.0</td>\n",
       "      <td>1.0</td>\n",
       "      <td>1.0</td>\n",
       "    </tr>\n",
       "    <tr>\n",
       "      <th>3411</th>\n",
       "      <td>711</td>\n",
       "      <td>37</td>\n",
       "      <td>8</td>\n",
       "      <td>113899.92</td>\n",
       "      <td>1</td>\n",
       "      <td>0</td>\n",
       "      <td>0</td>\n",
       "      <td>80215.20</td>\n",
       "      <td>0.0</td>\n",
       "      <td>0.0</td>\n",
       "      <td>0.0</td>\n",
       "    </tr>\n",
       "    <tr>\n",
       "      <th>6027</th>\n",
       "      <td>850</td>\n",
       "      <td>44</td>\n",
       "      <td>3</td>\n",
       "      <td>140393.65</td>\n",
       "      <td>2</td>\n",
       "      <td>0</td>\n",
       "      <td>1</td>\n",
       "      <td>186285.52</td>\n",
       "      <td>1.0</td>\n",
       "      <td>0.0</td>\n",
       "      <td>1.0</td>\n",
       "    </tr>\n",
       "    <tr>\n",
       "      <th>1247</th>\n",
       "      <td>512</td>\n",
       "      <td>24</td>\n",
       "      <td>6</td>\n",
       "      <td>0.00</td>\n",
       "      <td>2</td>\n",
       "      <td>1</td>\n",
       "      <td>0</td>\n",
       "      <td>37654.31</td>\n",
       "      <td>0.0</td>\n",
       "      <td>0.0</td>\n",
       "      <td>1.0</td>\n",
       "    </tr>\n",
       "    <tr>\n",
       "      <th>3716</th>\n",
       "      <td>665</td>\n",
       "      <td>27</td>\n",
       "      <td>2</td>\n",
       "      <td>147435.96</td>\n",
       "      <td>1</td>\n",
       "      <td>0</td>\n",
       "      <td>0</td>\n",
       "      <td>187508.06</td>\n",
       "      <td>1.0</td>\n",
       "      <td>0.0</td>\n",
       "      <td>0.0</td>\n",
       "    </tr>\n",
       "    <tr>\n",
       "      <th>...</th>\n",
       "      <td>...</td>\n",
       "      <td>...</td>\n",
       "      <td>...</td>\n",
       "      <td>...</td>\n",
       "      <td>...</td>\n",
       "      <td>...</td>\n",
       "      <td>...</td>\n",
       "      <td>...</td>\n",
       "      <td>...</td>\n",
       "      <td>...</td>\n",
       "      <td>...</td>\n",
       "    </tr>\n",
       "    <tr>\n",
       "      <th>4478</th>\n",
       "      <td>549</td>\n",
       "      <td>31</td>\n",
       "      <td>4</td>\n",
       "      <td>0.00</td>\n",
       "      <td>2</td>\n",
       "      <td>0</td>\n",
       "      <td>1</td>\n",
       "      <td>25684.85</td>\n",
       "      <td>0.0</td>\n",
       "      <td>0.0</td>\n",
       "      <td>1.0</td>\n",
       "    </tr>\n",
       "    <tr>\n",
       "      <th>4094</th>\n",
       "      <td>513</td>\n",
       "      <td>29</td>\n",
       "      <td>10</td>\n",
       "      <td>0.00</td>\n",
       "      <td>2</td>\n",
       "      <td>0</td>\n",
       "      <td>1</td>\n",
       "      <td>25514.77</td>\n",
       "      <td>0.0</td>\n",
       "      <td>0.0</td>\n",
       "      <td>1.0</td>\n",
       "    </tr>\n",
       "    <tr>\n",
       "      <th>3492</th>\n",
       "      <td>655</td>\n",
       "      <td>45</td>\n",
       "      <td>5</td>\n",
       "      <td>57327.04</td>\n",
       "      <td>1</td>\n",
       "      <td>0</td>\n",
       "      <td>1</td>\n",
       "      <td>47349.00</td>\n",
       "      <td>0.0</td>\n",
       "      <td>0.0</td>\n",
       "      <td>0.0</td>\n",
       "    </tr>\n",
       "    <tr>\n",
       "      <th>2177</th>\n",
       "      <td>667</td>\n",
       "      <td>24</td>\n",
       "      <td>4</td>\n",
       "      <td>0.00</td>\n",
       "      <td>2</td>\n",
       "      <td>0</td>\n",
       "      <td>1</td>\n",
       "      <td>34335.55</td>\n",
       "      <td>0.0</td>\n",
       "      <td>0.0</td>\n",
       "      <td>0.0</td>\n",
       "    </tr>\n",
       "    <tr>\n",
       "      <th>4578</th>\n",
       "      <td>691</td>\n",
       "      <td>38</td>\n",
       "      <td>1</td>\n",
       "      <td>0.00</td>\n",
       "      <td>2</td>\n",
       "      <td>0</td>\n",
       "      <td>0</td>\n",
       "      <td>44653.50</td>\n",
       "      <td>0.0</td>\n",
       "      <td>0.0</td>\n",
       "      <td>1.0</td>\n",
       "    </tr>\n",
       "  </tbody>\n",
       "</table>\n",
       "<p>6000 rows × 11 columns</p>\n",
       "</div>"
      ],
      "text/plain": [
       "      credit_score  age  tenure    balance  num_of_products  has_cr_card  \\\n",
       "7479           567   35       8  153137.74                1            1   \n",
       "3411           711   37       8  113899.92                1            0   \n",
       "6027           850   44       3  140393.65                2            0   \n",
       "1247           512   24       6       0.00                2            1   \n",
       "3716           665   27       2  147435.96                1            0   \n",
       "...            ...  ...     ...        ...              ...          ...   \n",
       "4478           549   31       4       0.00                2            0   \n",
       "4094           513   29      10       0.00                2            0   \n",
       "3492           655   45       5   57327.04                1            0   \n",
       "2177           667   24       4       0.00                2            0   \n",
       "4578           691   38       1       0.00                2            0   \n",
       "\n",
       "      is_active_member  estimated_salary  Germany  Spain  Male  \n",
       "7479                 0          88659.07      0.0    1.0   1.0  \n",
       "3411                 0          80215.20      0.0    0.0   0.0  \n",
       "6027                 1         186285.52      1.0    0.0   1.0  \n",
       "1247                 0          37654.31      0.0    0.0   1.0  \n",
       "3716                 0         187508.06      1.0    0.0   0.0  \n",
       "...                ...               ...      ...    ...   ...  \n",
       "4478                 1          25684.85      0.0    0.0   1.0  \n",
       "4094                 1          25514.77      0.0    0.0   1.0  \n",
       "3492                 1          47349.00      0.0    0.0   0.0  \n",
       "2177                 1          34335.55      0.0    0.0   0.0  \n",
       "4578                 0          44653.50      0.0    0.0   1.0  \n",
       "\n",
       "[6000 rows x 11 columns]"
      ]
     },
     "execution_count": 39,
     "metadata": {},
     "output_type": "execute_result"
    }
   ],
   "source": [
    "features_train = ohe_coding(features_train, enc, enc_2)\n",
    "features_test = ohe_coding(features_test, enc, enc_2)\n",
    "features_valid = ohe_coding(features_valid, enc, enc_2)\n",
    "features_train"
   ]
  },
  {
   "cell_type": "markdown",
   "id": "d2dc5fbc",
   "metadata": {},
   "source": [
    "### Стандартизация данных"
   ]
  },
  {
   "cell_type": "code",
   "execution_count": 92,
   "id": "18ec5b8d",
   "metadata": {},
   "outputs": [
    {
     "data": {
      "text/html": [
       "<div>\n",
       "<style scoped>\n",
       "    .dataframe tbody tr th:only-of-type {\n",
       "        vertical-align: middle;\n",
       "    }\n",
       "\n",
       "    .dataframe tbody tr th {\n",
       "        vertical-align: top;\n",
       "    }\n",
       "\n",
       "    .dataframe thead th {\n",
       "        text-align: right;\n",
       "    }\n",
       "</style>\n",
       "<table border=\"1\" class=\"dataframe\">\n",
       "  <thead>\n",
       "    <tr style=\"text-align: right;\">\n",
       "      <th></th>\n",
       "      <th>credit_score</th>\n",
       "      <th>age</th>\n",
       "      <th>tenure</th>\n",
       "      <th>balance</th>\n",
       "      <th>num_of_products</th>\n",
       "      <th>has_cr_card</th>\n",
       "      <th>is_active_member</th>\n",
       "      <th>estimated_salary</th>\n",
       "      <th>Germany</th>\n",
       "      <th>Spain</th>\n",
       "      <th>Male</th>\n",
       "    </tr>\n",
       "  </thead>\n",
       "  <tbody>\n",
       "    <tr>\n",
       "      <th>7479</th>\n",
       "      <td>-0.886751</td>\n",
       "      <td>-0.373192</td>\n",
       "      <td>1.082277</td>\n",
       "      <td>1.232271</td>\n",
       "      <td>-0.891560</td>\n",
       "      <td>1</td>\n",
       "      <td>0</td>\n",
       "      <td>-0.187705</td>\n",
       "      <td>0.0</td>\n",
       "      <td>1.0</td>\n",
       "      <td>1.0</td>\n",
       "    </tr>\n",
       "    <tr>\n",
       "      <th>3411</th>\n",
       "      <td>0.608663</td>\n",
       "      <td>-0.183385</td>\n",
       "      <td>1.082277</td>\n",
       "      <td>0.600563</td>\n",
       "      <td>-0.891560</td>\n",
       "      <td>0</td>\n",
       "      <td>0</td>\n",
       "      <td>-0.333945</td>\n",
       "      <td>0.0</td>\n",
       "      <td>0.0</td>\n",
       "      <td>0.0</td>\n",
       "    </tr>\n",
       "    <tr>\n",
       "      <th>6027</th>\n",
       "      <td>2.052152</td>\n",
       "      <td>0.480939</td>\n",
       "      <td>-0.737696</td>\n",
       "      <td>1.027098</td>\n",
       "      <td>0.830152</td>\n",
       "      <td>0</td>\n",
       "      <td>1</td>\n",
       "      <td>1.503095</td>\n",
       "      <td>1.0</td>\n",
       "      <td>0.0</td>\n",
       "      <td>1.0</td>\n",
       "    </tr>\n",
       "    <tr>\n",
       "      <th>1247</th>\n",
       "      <td>-1.457915</td>\n",
       "      <td>-1.417129</td>\n",
       "      <td>0.354288</td>\n",
       "      <td>-1.233163</td>\n",
       "      <td>0.830152</td>\n",
       "      <td>1</td>\n",
       "      <td>0</td>\n",
       "      <td>-1.071061</td>\n",
       "      <td>0.0</td>\n",
       "      <td>0.0</td>\n",
       "      <td>1.0</td>\n",
       "    </tr>\n",
       "    <tr>\n",
       "      <th>3716</th>\n",
       "      <td>0.130961</td>\n",
       "      <td>-1.132419</td>\n",
       "      <td>-1.101690</td>\n",
       "      <td>1.140475</td>\n",
       "      <td>-0.891560</td>\n",
       "      <td>0</td>\n",
       "      <td>0</td>\n",
       "      <td>1.524268</td>\n",
       "      <td>1.0</td>\n",
       "      <td>0.0</td>\n",
       "      <td>0.0</td>\n",
       "    </tr>\n",
       "    <tr>\n",
       "      <th>...</th>\n",
       "      <td>...</td>\n",
       "      <td>...</td>\n",
       "      <td>...</td>\n",
       "      <td>...</td>\n",
       "      <td>...</td>\n",
       "      <td>...</td>\n",
       "      <td>...</td>\n",
       "      <td>...</td>\n",
       "      <td>...</td>\n",
       "      <td>...</td>\n",
       "      <td>...</td>\n",
       "    </tr>\n",
       "    <tr>\n",
       "      <th>4478</th>\n",
       "      <td>-1.073677</td>\n",
       "      <td>-0.752805</td>\n",
       "      <td>-0.373701</td>\n",
       "      <td>-1.233163</td>\n",
       "      <td>0.830152</td>\n",
       "      <td>0</td>\n",
       "      <td>1</td>\n",
       "      <td>-1.278361</td>\n",
       "      <td>0.0</td>\n",
       "      <td>0.0</td>\n",
       "      <td>1.0</td>\n",
       "    </tr>\n",
       "    <tr>\n",
       "      <th>4094</th>\n",
       "      <td>-1.447531</td>\n",
       "      <td>-0.942612</td>\n",
       "      <td>1.810266</td>\n",
       "      <td>-1.233163</td>\n",
       "      <td>0.830152</td>\n",
       "      <td>0</td>\n",
       "      <td>1</td>\n",
       "      <td>-1.281307</td>\n",
       "      <td>0.0</td>\n",
       "      <td>0.0</td>\n",
       "      <td>1.0</td>\n",
       "    </tr>\n",
       "    <tr>\n",
       "      <th>3492</th>\n",
       "      <td>0.027113</td>\n",
       "      <td>0.575842</td>\n",
       "      <td>-0.009707</td>\n",
       "      <td>-0.310229</td>\n",
       "      <td>-0.891560</td>\n",
       "      <td>0</td>\n",
       "      <td>1</td>\n",
       "      <td>-0.903158</td>\n",
       "      <td>0.0</td>\n",
       "      <td>0.0</td>\n",
       "      <td>0.0</td>\n",
       "    </tr>\n",
       "    <tr>\n",
       "      <th>2177</th>\n",
       "      <td>0.151731</td>\n",
       "      <td>-1.417129</td>\n",
       "      <td>-0.373701</td>\n",
       "      <td>-1.233163</td>\n",
       "      <td>0.830152</td>\n",
       "      <td>0</td>\n",
       "      <td>1</td>\n",
       "      <td>-1.128539</td>\n",
       "      <td>0.0</td>\n",
       "      <td>0.0</td>\n",
       "      <td>0.0</td>\n",
       "    </tr>\n",
       "    <tr>\n",
       "      <th>4578</th>\n",
       "      <td>0.400966</td>\n",
       "      <td>-0.088482</td>\n",
       "      <td>-1.465685</td>\n",
       "      <td>-1.233163</td>\n",
       "      <td>0.830152</td>\n",
       "      <td>0</td>\n",
       "      <td>0</td>\n",
       "      <td>-0.949841</td>\n",
       "      <td>0.0</td>\n",
       "      <td>0.0</td>\n",
       "      <td>1.0</td>\n",
       "    </tr>\n",
       "  </tbody>\n",
       "</table>\n",
       "<p>6000 rows × 11 columns</p>\n",
       "</div>"
      ],
      "text/plain": [
       "      credit_score       age    tenure   balance  num_of_products  \\\n",
       "7479     -0.886751 -0.373192  1.082277  1.232271        -0.891560   \n",
       "3411      0.608663 -0.183385  1.082277  0.600563        -0.891560   \n",
       "6027      2.052152  0.480939 -0.737696  1.027098         0.830152   \n",
       "1247     -1.457915 -1.417129  0.354288 -1.233163         0.830152   \n",
       "3716      0.130961 -1.132419 -1.101690  1.140475        -0.891560   \n",
       "...            ...       ...       ...       ...              ...   \n",
       "4478     -1.073677 -0.752805 -0.373701 -1.233163         0.830152   \n",
       "4094     -1.447531 -0.942612  1.810266 -1.233163         0.830152   \n",
       "3492      0.027113  0.575842 -0.009707 -0.310229        -0.891560   \n",
       "2177      0.151731 -1.417129 -0.373701 -1.233163         0.830152   \n",
       "4578      0.400966 -0.088482 -1.465685 -1.233163         0.830152   \n",
       "\n",
       "      has_cr_card  is_active_member  estimated_salary  Germany  Spain  Male  \n",
       "7479            1                 0         -0.187705      0.0    1.0   1.0  \n",
       "3411            0                 0         -0.333945      0.0    0.0   0.0  \n",
       "6027            0                 1          1.503095      1.0    0.0   1.0  \n",
       "1247            1                 0         -1.071061      0.0    0.0   1.0  \n",
       "3716            0                 0          1.524268      1.0    0.0   0.0  \n",
       "...           ...               ...               ...      ...    ...   ...  \n",
       "4478            0                 1         -1.278361      0.0    0.0   1.0  \n",
       "4094            0                 1         -1.281307      0.0    0.0   1.0  \n",
       "3492            0                 1         -0.903158      0.0    0.0   0.0  \n",
       "2177            0                 1         -1.128539      0.0    0.0   0.0  \n",
       "4578            0                 0         -0.949841      0.0    0.0   1.0  \n",
       "\n",
       "[6000 rows x 11 columns]"
      ]
     },
     "execution_count": 92,
     "metadata": {},
     "output_type": "execute_result"
    }
   ],
   "source": [
    "scaler = StandardScaler()\n",
    "numeric = ['credit_score', 'age', 'tenure', 'balance', 'num_of_products', 'estimated_salary']\n",
    "scaler.fit(features_train[numeric])\n",
    "features_train[numeric] = scaler.transform(features_train[numeric])\n",
    "features_train"
   ]
  },
  {
   "cell_type": "code",
   "execution_count": 93,
   "id": "d691adf3",
   "metadata": {},
   "outputs": [],
   "source": [
    "features_test[numeric] = scaler.transform(features_test[numeric])\n",
    "features_valid[numeric] = scaler.transform(features_valid[numeric])"
   ]
  },
  {
   "cell_type": "markdown",
   "id": "b8207034",
   "metadata": {},
   "source": [
    "Промасштабировали признаки."
   ]
  },
  {
   "cell_type": "markdown",
   "id": "1862e1c6",
   "metadata": {},
   "source": [
    "### Обучение без учета дисбаланса классов"
   ]
  },
  {
   "cell_type": "markdown",
   "id": "b3a1df37",
   "metadata": {},
   "source": [
    "#### Дерево решений"
   ]
  },
  {
   "cell_type": "code",
   "execution_count": 94,
   "id": "63701034",
   "metadata": {},
   "outputs": [
    {
     "name": "stdout",
     "output_type": "stream",
     "text": [
      "depth: 1 | result: 0.0\n",
      "depth: 2 | result: 0.4986301369863014\n",
      "depth: 3 | result: 0.3957219251336898\n",
      "depth: 4 | result: 0.4320557491289198\n",
      "depth: 5 | result: 0.5214814814814815\n",
      "depth: 6 | result: 0.5185185185185186\n",
      "depth: 7 | result: 0.5476190476190476\n",
      "depth: 8 | result: 0.5476190476190476\n",
      "depth: 9 | result: 0.5476190476190476\n",
      "depth: 10 | result: 0.5476190476190476\n",
      "depth: 11 | result: 0.5476190476190476\n",
      "depth: 12 | result: 0.5476190476190476\n",
      "depth: 13 | result: 0.5476190476190476\n",
      "depth: 14 | result: 0.5476190476190476\n",
      "depth: 15 | result: 0.5476190476190476\n",
      "Лучшая модель: depth: 7 | result: 0.5476190476190476 | auc_roc: 0.8342177969061764\n"
     ]
    }
   ],
   "source": [
    "best_model = None\n",
    "best_result = 0\n",
    "for depth in range(1, 16):\n",
    "    model = DecisionTreeClassifier(max_depth=depth, criterion='entropy', splitter='best', \n",
    "                               min_samples_split=150, min_samples_leaf=10, random_state=12345)\n",
    "    model.fit(features_train, target_train)\n",
    "    prediction_valid = model.predict(features_valid)\n",
    "    result = f1_score(target_valid, prediction_valid)\n",
    "    print('depth:', depth, '| result:', result)\n",
    "    \n",
    "    if result > best_result:\n",
    "        best_model = model\n",
    "        best_result = result\n",
    "        best_depth = depth\n",
    "        auc_roc = roc_auc_score(target_valid, model.predict_proba(features_valid)[:, 1])\n",
    "\n",
    "print('Лучшая модель: depth:', best_depth, '| result:', best_result, '| auc_roc:', auc_roc)"
   ]
  },
  {
   "cell_type": "markdown",
   "id": "7519ba16",
   "metadata": {},
   "source": [
    "Максимум F1-меры, которой удалось добиться на валидационной выборке, изменяя гиперпараметры - 0.5476. Этого не достаточно.\n",
    "\n",
    "AUC-ROC = 0.834 - хороший показатель, больше 0.59."
   ]
  },
  {
   "cell_type": "markdown",
   "id": "730a5af5",
   "metadata": {},
   "source": [
    "#### Случайный лес"
   ]
  },
  {
   "cell_type": "code",
   "execution_count": 95,
   "id": "b3f62292",
   "metadata": {},
   "outputs": [
    {
     "name": "stdout",
     "output_type": "stream",
     "text": [
      "Лучшая модель: depth: 14 | n_estimators: 5 | result: 0.5117004680187208 | auc_roc: 0.8371005485173242\n"
     ]
    }
   ],
   "source": [
    "best_model = None\n",
    "best_result = 0\n",
    "for estimators in range(5, 120, 5):\n",
    "    for depth in range(7, 15):\n",
    "        model = RandomForestClassifier(max_depth=depth, n_estimators=estimators, criterion='gini', \n",
    "                               min_samples_split=100, min_samples_leaf=10, random_state=12345)\n",
    "        model.fit(features_train, target_train)\n",
    "        prediction_valid = model.predict(features_valid)\n",
    "        result = f1_score(target_valid, prediction_valid)\n",
    "    \n",
    "        if result > best_result:\n",
    "            best_model = model\n",
    "            best_result = result\n",
    "            best_n = estimators\n",
    "            best_depth = depth\n",
    "            auc_roc = roc_auc_score(target_valid, model.predict_proba(features_valid)[:, 1])\n",
    "print('Лучшая модель: depth:', depth, '| n_estimators:', best_n, '| result:', best_result, '| auc_roc:', auc_roc)\n"
   ]
  },
  {
   "cell_type": "markdown",
   "id": "4cec45c9",
   "metadata": {},
   "source": [
    "Максимум F1-меры, которой удалось добиться на валидационной выборке, изменяя гиперпараметры - 0.5117. Этого не достаточно.\n",
    "\n",
    "AUC-ROC = 0.837 - хороший показатель, больше 0.59."
   ]
  },
  {
   "cell_type": "markdown",
   "id": "3c794d4c",
   "metadata": {},
   "source": [
    "#### Логистическая регрессия"
   ]
  },
  {
   "cell_type": "code",
   "execution_count": 96,
   "id": "e7b35fce",
   "metadata": {},
   "outputs": [
    {
     "name": "stdout",
     "output_type": "stream",
     "text": [
      "F1-мера модели Логистической регрессии: 0.27478260869565213 | auc_roc: 0.7386410142248726\n"
     ]
    }
   ],
   "source": [
    "model_lr = LogisticRegression(penalty='l2' , solver='liblinear', random_state=12345)\n",
    "model_lr.fit(features_train, target_train)\n",
    "prediction_valid = model_lr.predict(features_valid)\n",
    "result = f1_score(target_valid, prediction_valid)\n",
    "auc_roc = roc_auc_score(target_valid, model_lr.predict_proba(features_valid)[:, 1])\n",
    "\n",
    "print('F1-мера модели Логистической регрессии:', result, '| auc_roc:', auc_roc)"
   ]
  },
  {
   "cell_type": "markdown",
   "id": "fbdbda1a",
   "metadata": {},
   "source": [
    "Максимум F1-меры, которой удалось добиться на валидационной выборке, изменяя гиперпараметры - 0.2748. Этого не достаточно.\n",
    "\n",
    "AUC-ROC = 0.738 - хороший показатель, больше 0.59, но значительно хуже предыдущих моделей."
   ]
  },
  {
   "cell_type": "markdown",
   "id": "55208270",
   "metadata": {},
   "source": [
    "### Учтем дисбаланс классов"
   ]
  },
  {
   "cell_type": "code",
   "execution_count": 97,
   "id": "0830be38",
   "metadata": {},
   "outputs": [
    {
     "data": {
      "text/plain": [
       "0    7963\n",
       "1    2037\n",
       "Name: exited, dtype: int64"
      ]
     },
     "execution_count": 97,
     "metadata": {},
     "output_type": "execute_result"
    }
   ],
   "source": [
    "data['exited'].value_counts()"
   ]
  },
  {
   "cell_type": "code",
   "execution_count": 98,
   "id": "0486acea",
   "metadata": {},
   "outputs": [
    {
     "data": {
      "text/plain": [
       "0    4804\n",
       "1    1196\n",
       "Name: exited, dtype: int64"
      ]
     },
     "execution_count": 98,
     "metadata": {},
     "output_type": "execute_result"
    }
   ],
   "source": [
    "target_train.value_counts()"
   ]
  },
  {
   "cell_type": "markdown",
   "id": "dab4bed1",
   "metadata": {},
   "source": [
    "#### Увеличение выборки"
   ]
  },
  {
   "cell_type": "markdown",
   "id": "069a99e4",
   "metadata": {},
   "source": [
    "Увеличим количество положительных классов в 4 раза."
   ]
  },
  {
   "cell_type": "code",
   "execution_count": 99,
   "id": "66c16c6d",
   "metadata": {},
   "outputs": [
    {
     "data": {
      "text/plain": [
       "0    4804\n",
       "1    4784\n",
       "Name: exited, dtype: int64"
      ]
     },
     "execution_count": 99,
     "metadata": {},
     "output_type": "execute_result"
    }
   ],
   "source": [
    "def upsample(features, target, repeat):\n",
    "    features_zeros = features[target == 0]\n",
    "    features_ones = features[target == 1]\n",
    "    target_zeros = target[target == 0]\n",
    "    target_ones = target[target == 1]\n",
    "    \n",
    "    features_upsampled = pd.concat([features_zeros] + [features_ones] * repeat)\n",
    "    target_upsampled = pd.concat([target_zeros] + [target_ones] * repeat)\n",
    "    \n",
    "    features_upsampled, target_upsampled = shuffle(\n",
    "        features_upsampled, target_upsampled, random_state=12345)\n",
    "    \n",
    "    return features_upsampled, target_upsampled\n",
    "\n",
    "features_upsampled, target_upsampled = upsample(features_train, target_train, 4)\n",
    "\n",
    "target_upsampled.value_counts()"
   ]
  },
  {
   "cell_type": "markdown",
   "id": "6eb53749",
   "metadata": {},
   "source": [
    "##### Дерево решений"
   ]
  },
  {
   "cell_type": "code",
   "execution_count": 100,
   "id": "9201c1d9",
   "metadata": {},
   "outputs": [
    {
     "name": "stdout",
     "output_type": "stream",
     "text": [
      "depth: 1 | result: 0.48514851485148514\n",
      "depth: 2 | result: 0.5129682997118156\n",
      "depth: 3 | result: 0.5129682997118156\n",
      "depth: 4 | result: 0.5388349514563108\n",
      "depth: 5 | result: 0.5848074921956294\n",
      "depth: 6 | result: 0.5711775043936732\n",
      "depth: 7 | result: 0.5803402646502835\n",
      "depth: 8 | result: 0.5826170009551098\n",
      "depth: 9 | result: 0.5833333333333334\n",
      "depth: 10 | result: 0.5917753259779338\n",
      "depth: 11 | result: 0.5876591576885407\n",
      "depth: 12 | result: 0.5870841487279844\n",
      "depth: 13 | result: 0.5870841487279844\n",
      "depth: 14 | result: 0.5870841487279844\n",
      "depth: 15 | result: 0.5870841487279844\n",
      "Лучшая модель: depth: 10 | result: 0.5917753259779338 | auc_roc: 0.815772234139994\n"
     ]
    }
   ],
   "source": [
    "best_model = None\n",
    "best_result = 0\n",
    "for depth in range(1, 16):\n",
    "    model = DecisionTreeClassifier(max_depth=depth, criterion='entropy', splitter='best', \n",
    "                               min_samples_split=150, min_samples_leaf=10, random_state=12345)\n",
    "    model.fit(features_upsampled, target_upsampled)\n",
    "    prediction_valid = model.predict(features_valid)\n",
    "    result = f1_score(target_valid, prediction_valid)\n",
    "    print('depth:', depth, '| result:', result)\n",
    "    \n",
    "    if result > best_result:\n",
    "        best_model = model\n",
    "        best_result = result\n",
    "        best_depth = depth\n",
    "        auc_roc = roc_auc_score(target_valid, model.predict_proba(features_valid)[:, 1])\n",
    "\n",
    "print('Лучшая модель: depth:', best_depth, '| result:', best_result, '| auc_roc:', auc_roc)"
   ]
  },
  {
   "cell_type": "markdown",
   "id": "7bafc2f7",
   "metadata": {},
   "source": [
    "Максимум F1-меры, которой удалось добиться на валидационной выборке, изменяя гиперпараметры - 0.5917. Нам этого достаточно, продолжим исследование на других моделях.\n",
    "\n",
    "AUC-ROC = 0.8158 - хороший показатель, больше 0.59."
   ]
  },
  {
   "cell_type": "markdown",
   "id": "d18e9c5f",
   "metadata": {},
   "source": [
    "##### Случайный лес"
   ]
  },
  {
   "cell_type": "code",
   "execution_count": 101,
   "id": "8497f5fa",
   "metadata": {},
   "outputs": [
    {
     "name": "stdout",
     "output_type": "stream",
     "text": [
      "Лучшая модель: depth: 14 | n_estimators: 20 | result: 0.614 | auc_roc: 0.8561997148729296\n"
     ]
    }
   ],
   "source": [
    "best_model = None\n",
    "best_result = 0\n",
    "for estimators in range(5, 120, 5):\n",
    "    for depth in range(7, 15):\n",
    "        model = RandomForestClassifier(max_depth=depth, n_estimators=estimators, criterion='gini', \n",
    "                               min_samples_split=150, min_samples_leaf=10, random_state=12345)\n",
    "        model.fit(features_upsampled, target_upsampled)\n",
    "        prediction_valid = model.predict(features_valid)\n",
    "        result = f1_score(target_valid, prediction_valid)\n",
    "    \n",
    "        if result > best_result:\n",
    "            best_model = model\n",
    "            best_result = result\n",
    "            best_n = estimators\n",
    "            best_depth = depth\n",
    "            auc_roc = roc_auc_score(target_valid, model.predict_proba(features_valid)[:, 1])\n",
    "print('Лучшая модель: depth:', depth, '| n_estimators:', best_n, '| result:', best_result, '| auc_roc:', auc_roc)"
   ]
  },
  {
   "cell_type": "markdown",
   "id": "5b4e3ff0",
   "metadata": {},
   "source": [
    "Максимум F1-меры, которой удалось добиться на валидационной выборке, изменяя гиперпараметры - 0.614. Нам этого достаточно, продолжим исследование на других моделях.\n",
    "\n",
    "AUC-ROC = 0.8562 - хороший показатель, больше 0.59."
   ]
  },
  {
   "cell_type": "markdown",
   "id": "f7fe8779",
   "metadata": {},
   "source": [
    "##### Логистическая регрессия"
   ]
  },
  {
   "cell_type": "code",
   "execution_count": 102,
   "id": "08b07736",
   "metadata": {},
   "outputs": [
    {
     "name": "stdout",
     "output_type": "stream",
     "text": [
      "F1-мера модели Логистической регрессии: 0.47619047619047616 | auc_roc: 0.7417621212734475\n"
     ]
    }
   ],
   "source": [
    "model_lr = LogisticRegression(penalty='l2' , solver='liblinear', random_state=12345)\n",
    "model_lr.fit(features_upsampled, target_upsampled)\n",
    "prediction_valid = model_lr.predict(features_valid)\n",
    "result = f1_score(target_valid, prediction_valid)\n",
    "auc_roc = roc_auc_score(target_valid, model_lr.predict_proba(features_valid)[:, 1])\n",
    "\n",
    "print('F1-мера модели Логистической регрессии:', result, '| auc_roc:', auc_roc)"
   ]
  },
  {
   "cell_type": "markdown",
   "id": "9e649bfc",
   "metadata": {},
   "source": [
    "Максимум F1-меры, которой удалось добиться на валидационной выборке, изменяя гиперпараметры - 0.4762. Этого не достаточно.\n",
    "\n",
    "AUC-ROC = 0.7418 - хороший показатель, больше 0.59."
   ]
  },
  {
   "cell_type": "markdown",
   "id": "0e221ecc",
   "metadata": {},
   "source": [
    "#### Уменьшение выборки"
   ]
  },
  {
   "cell_type": "code",
   "execution_count": 103,
   "id": "2a8afee9",
   "metadata": {},
   "outputs": [
    {
     "data": {
      "text/plain": [
       "0    1201\n",
       "1    1196\n",
       "Name: exited, dtype: int64"
      ]
     },
     "execution_count": 103,
     "metadata": {},
     "output_type": "execute_result"
    }
   ],
   "source": [
    "def downsample(features, target, fraction):\n",
    "    features_zeros = features[target == 0]\n",
    "    features_ones = features[target == 1]\n",
    "    target_zeros = target[target == 0]\n",
    "    target_ones = target[target == 1]\n",
    "\n",
    "    features_downsampled = pd.concat(\n",
    "        [features_zeros.sample(frac=fraction, random_state=12345)] + [features_ones])\n",
    "    target_downsampled = pd.concat(\n",
    "        [target_zeros.sample(frac=fraction, random_state=12345)] + [target_ones])\n",
    "    \n",
    "    features_downsampled, target_downsampled = shuffle(\n",
    "        features_downsampled, target_downsampled, random_state=12345)\n",
    "    \n",
    "    return features_downsampled, target_downsampled\n",
    "\n",
    "features_downsampled, target_downsampled = downsample(features_train, target_train, 0.25)\n",
    "\n",
    "target_downsampled.value_counts()"
   ]
  },
  {
   "cell_type": "markdown",
   "id": "2da3629e",
   "metadata": {},
   "source": [
    "Получили маленькие выборки, проверим на моделях."
   ]
  },
  {
   "cell_type": "code",
   "execution_count": 104,
   "id": "5bfc6674",
   "metadata": {},
   "outputs": [
    {
     "name": "stdout",
     "output_type": "stream",
     "text": [
      "depth: 1 | result: 0.4878957169459963\n",
      "depth: 2 | result: 0.5109090909090909\n",
      "depth: 3 | result: 0.5611510791366906\n",
      "depth: 4 | result: 0.5557851239669421\n",
      "depth: 5 | result: 0.5590622182146078\n",
      "depth: 6 | result: 0.5550883095037847\n",
      "depth: 7 | result: 0.5476815398075241\n",
      "depth: 8 | result: 0.5476815398075241\n",
      "depth: 9 | result: 0.5476815398075241\n",
      "depth: 10 | result: 0.5476815398075241\n",
      "depth: 11 | result: 0.5476815398075241\n",
      "depth: 12 | result: 0.5476815398075241\n",
      "depth: 13 | result: 0.5476815398075241\n",
      "depth: 14 | result: 0.5476815398075241\n",
      "depth: 15 | result: 0.5476815398075241\n",
      "Лучшая модель: depth: 3 | result: 0.5611510791366906 | auc_roc: 0.7929643171416536\n"
     ]
    }
   ],
   "source": [
    "best_model = None\n",
    "best_result = 0\n",
    "for depth in range(1, 16):\n",
    "    model = DecisionTreeClassifier(max_depth=depth, criterion='entropy', splitter='best', \n",
    "                               min_samples_split=150, min_samples_leaf=10, random_state=12345)\n",
    "    model.fit(features_downsampled, target_downsampled)\n",
    "    prediction_valid = model.predict(features_valid)\n",
    "    result = f1_score(target_valid, prediction_valid)\n",
    "    print('depth:', depth, '| result:', result)\n",
    "    \n",
    "    if result > best_result:\n",
    "        best_model = model\n",
    "        best_result = result\n",
    "        best_depth = depth\n",
    "        auc_roc = roc_auc_score(target_valid, model.predict_proba(features_valid)[:, 1])\n",
    "\n",
    "print('Лучшая модель: depth:', best_depth, '| result:', best_result, '| auc_roc:', auc_roc)"
   ]
  },
  {
   "cell_type": "markdown",
   "id": "9a3a81f3",
   "metadata": {},
   "source": [
    "Получили слишком низкое значение F-1 меры - 0.561. AUC-ROC = 0.793. "
   ]
  },
  {
   "cell_type": "code",
   "execution_count": 105,
   "id": "cb33993b",
   "metadata": {},
   "outputs": [
    {
     "name": "stdout",
     "output_type": "stream",
     "text": [
      "Лучшая модель: depth: 14 | n_estimators: 10 | result: 0.5874524714828897 | auc_roc: 0.8438494553053573\n"
     ]
    }
   ],
   "source": [
    "best_model = None\n",
    "best_result = 0\n",
    "for estimators in range(5, 120, 5):\n",
    "    for depth in range(7, 15):\n",
    "        model = RandomForestClassifier(max_depth=depth, n_estimators=estimators, criterion='gini', \n",
    "                               min_samples_split=150, min_samples_leaf=10, random_state=12345)\n",
    "        model.fit(features_downsampled, target_downsampled)\n",
    "        prediction_valid = model.predict(features_valid)\n",
    "        result = f1_score(target_valid, prediction_valid)\n",
    "    \n",
    "        if result > best_result:\n",
    "            best_model = model\n",
    "            best_result = result\n",
    "            best_n = estimators\n",
    "            best_depth = depth\n",
    "            auc_roc = roc_auc_score(target_valid, model.predict_proba(features_valid)[:, 1])\n",
    "print('Лучшая модель: depth:', depth, '| n_estimators:', best_n, '| result:', best_result, '| auc_roc:', auc_roc)"
   ]
  },
  {
   "cell_type": "markdown",
   "id": "3a758c2c",
   "metadata": {},
   "source": [
    "F1-мера = 0.5875, это ниже требуемого значения. AUC-ROC = 0.77"
   ]
  },
  {
   "cell_type": "code",
   "execution_count": 106,
   "id": "88e982ac",
   "metadata": {},
   "outputs": [
    {
     "name": "stdout",
     "output_type": "stream",
     "text": [
      "F1-мера модели Логистической регрессии: 0.48417450812660395 | auc_roc: 0.7413123940330189\n"
     ]
    }
   ],
   "source": [
    "model_lr = LogisticRegression(penalty='l2' , solver='liblinear', random_state=12345)\n",
    "model_lr.fit(features_downsampled, target_downsampled)\n",
    "prediction_valid = model_lr.predict(features_valid)\n",
    "result = f1_score(target_valid, prediction_valid)\n",
    "auc_roc = roc_auc_score(target_valid, model_lr.predict_proba(features_valid)[:, 1])\n",
    "\n",
    "print('F1-мера модели Логистической регрессии:', result, '| auc_roc:', auc_roc)"
   ]
  },
  {
   "cell_type": "markdown",
   "id": "34e679c1",
   "metadata": {},
   "source": [
    "Получили слишком низкие показатели метрик"
   ]
  },
  {
   "cell_type": "markdown",
   "id": "726bae30",
   "metadata": {},
   "source": [
    "#### Изменение порога"
   ]
  },
  {
   "cell_type": "code",
   "execution_count": 107,
   "id": "b55cfd16",
   "metadata": {},
   "outputs": [
    {
     "name": "stdout",
     "output_type": "stream",
     "text": [
      "F1-мера модели Логистической регрессии: 0.4788245462402766 | auc_roc: 0.7418085930882918\n"
     ]
    }
   ],
   "source": [
    "model_lr = LogisticRegression(penalty='l2' , solver='liblinear', class_weight='balanced' , random_state=12345)\n",
    "model_lr.fit(features_train, target_train)\n",
    "prediction_valid = model_lr.predict(features_valid)\n",
    "result = f1_score(target_valid, prediction_valid)\n",
    "auc_roc = roc_auc_score(target_valid, model_lr.predict_proba(features_valid)[:, 1])\n",
    "\n",
    "print('F1-мера модели Логистической регрессии:', result, '| auc_roc:', auc_roc)"
   ]
  },
  {
   "cell_type": "markdown",
   "id": "3cf1b610",
   "metadata": {},
   "source": [
    "Получили слишком низкие показатель F-1 меры = 0.4788. AUC-ROC = 0.742"
   ]
  },
  {
   "cell_type": "markdown",
   "id": "25cb51c8",
   "metadata": {},
   "source": [
    "## Тестирование лучшей модели"
   ]
  },
  {
   "cell_type": "markdown",
   "id": "7b584ab5",
   "metadata": {},
   "source": [
    "Лучшая подобранная модель - случайный лес, обученный на увеличенной выборке.\n",
    "- RandomForestClassifier(max_depth=14, n_estimators=20, criterion='gini', min_samples_split=150, min_samples_leaf=10, random_state=12345)"
   ]
  },
  {
   "cell_type": "code",
   "execution_count": 108,
   "id": "61df52c1",
   "metadata": {},
   "outputs": [
    {
     "name": "stdout",
     "output_type": "stream",
     "text": [
      "F1 = 0.6136595310907238 | AUC-ROC = 0.8503615057467647\n"
     ]
    }
   ],
   "source": [
    "model = RandomForestClassifier(max_depth=14, n_estimators=20, criterion='gini', \n",
    "                               min_samples_split=150, min_samples_leaf=10, random_state=12345)\n",
    "model.fit(features_upsampled, target_upsampled)\n",
    "prediction_test = model.predict(features_test)\n",
    "result = f1_score(target_test, prediction_test)\n",
    "auc_roc = roc_auc_score(target_valid, model.predict_proba(features_valid)[:, 1])\n",
    "print('F1 =', result, '| AUC-ROC =', auc_roc)"
   ]
  },
  {
   "cell_type": "markdown",
   "id": "30513b02",
   "metadata": {},
   "source": [
    "Вывод: в данной работе была выполнена первоначальная подготовка данных к машинному обучению: оптимизированы типы данных, заполнены пропуски, удалены лишние столбцы. Затем происходил подбор наилучшей модели, опираясь на F1-меру и параллельно рассчитывая AUC-ROC (сначала без балансировки классов, затем увеличив выборку). По итогу лучшая подобранная модель - случайный лес, обученный на увеличенной выборке. Удалось достичь на тестовой выборке следующих показателей: F1-мера = 0.613659, AUC-ROC = 0.85"
   ]
  },
  {
   "cell_type": "markdown",
   "id": "9fa1f07f",
   "metadata": {},
   "source": [
    "Итоговый вывод:\n",
    "\n",
    "Была проделана объемная работа, цель которой - спрогнозировать, уйдет ли клиент из банка в ближайшее время. Началось всё с подготовки данных к машинному обучению:\n",
    "\n",
    "* пропуски были заполнены медианой\n",
    "* удалены лишние столбцы\n",
    "* изменены типы данных в датафрейме, для оптимального использования памяти\n",
    "\n",
    "Далее я разделил датафрейм на признаки и целевой признак, разделил всё на 3 выборки (обучающую, валидационную, тестовую) и  принялся за кодирование категориальных признаков методом OHE. После провел масштабирование численных признаков.\n",
    "\n",
    "Следующий этап - построение прогнозирующих моделей. Использовались модели следующих типов: дерево решений, случайный лес, логистическая регрессия. Лучшие результаты показывала модель решающего дерева. Далее я стал учитывать дисбаланс классов двумя способами: увеличение выборки и уменьшение выборки. Как показала практика - уменьшение выборки в этой работе не дало хороших результатов. Наоборот, увеличение выборки позволило существенно повысить качество моделей. При таком раскладе лучшей была модель случайного леса со следующими гиперпараметрами: `max_depth=14`, `n_estimators=20`, `criterion='gini'`, `min_samples_split=150`, `min_samples_leaf=10`, `random_state=12345`.\n",
    "В итоге на тестовой выборке удалось получить следующие результаты: F1-мера = 0.613659, AUC-ROC = 0.85"
   ]
  },
  {
   "cell_type": "code",
   "execution_count": null,
   "id": "2d24668c",
   "metadata": {},
   "outputs": [],
   "source": []
  }
 ],
 "metadata": {
  "ExecuteTimeLog": [
   {
    "duration": 1232,
    "start_time": "2023-03-23T14:00:10.078Z"
   },
   {
    "duration": 210,
    "start_time": "2023-03-23T14:00:11.312Z"
   },
   {
    "duration": 23,
    "start_time": "2023-03-23T14:00:11.524Z"
   },
   {
    "duration": 17,
    "start_time": "2023-03-23T14:00:11.549Z"
   },
   {
    "duration": 22,
    "start_time": "2023-03-23T14:00:11.569Z"
   },
   {
    "duration": 15,
    "start_time": "2023-03-23T14:00:11.593Z"
   },
   {
    "duration": 20,
    "start_time": "2023-03-23T14:00:11.609Z"
   },
   {
    "duration": 34,
    "start_time": "2023-03-23T14:00:11.631Z"
   },
   {
    "duration": 13,
    "start_time": "2023-03-23T14:00:11.667Z"
   },
   {
    "duration": 8,
    "start_time": "2023-03-23T14:00:11.682Z"
   },
   {
    "duration": 8,
    "start_time": "2023-03-23T14:00:11.692Z"
   },
   {
    "duration": 18,
    "start_time": "2023-03-23T14:00:11.702Z"
   },
   {
    "duration": 26,
    "start_time": "2023-03-23T14:00:11.722Z"
   },
   {
    "duration": 7,
    "start_time": "2023-03-23T14:00:11.751Z"
   },
   {
    "duration": 11,
    "start_time": "2023-03-23T14:00:11.759Z"
   },
   {
    "duration": 21,
    "start_time": "2023-03-23T14:00:11.772Z"
   },
   {
    "duration": 4,
    "start_time": "2023-03-23T14:00:11.794Z"
   },
   {
    "duration": 8,
    "start_time": "2023-03-23T14:00:11.799Z"
   },
   {
    "duration": 6,
    "start_time": "2023-03-23T14:00:11.809Z"
   },
   {
    "duration": 5,
    "start_time": "2023-03-23T14:00:11.816Z"
   },
   {
    "duration": 9,
    "start_time": "2023-03-23T14:00:11.823Z"
   },
   {
    "duration": 22,
    "start_time": "2023-03-23T14:00:11.834Z"
   },
   {
    "duration": 4,
    "start_time": "2023-03-23T14:00:11.858Z"
   },
   {
    "duration": 19,
    "start_time": "2023-03-23T14:00:11.864Z"
   },
   {
    "duration": 12,
    "start_time": "2023-03-23T14:00:11.885Z"
   },
   {
    "duration": 25,
    "start_time": "2023-03-23T14:00:11.899Z"
   },
   {
    "duration": 43,
    "start_time": "2023-03-23T14:00:11.926Z"
   },
   {
    "duration": 7,
    "start_time": "2023-03-23T14:00:11.971Z"
   },
   {
    "duration": 7,
    "start_time": "2023-03-23T14:00:11.980Z"
   },
   {
    "duration": 17,
    "start_time": "2023-03-23T14:00:11.989Z"
   },
   {
    "duration": 275,
    "start_time": "2023-03-23T14:00:18.560Z"
   },
   {
    "duration": 39,
    "start_time": "2023-03-23T14:00:29.124Z"
   },
   {
    "duration": 45,
    "start_time": "2023-03-23T14:00:34.616Z"
   },
   {
    "duration": 1455,
    "start_time": "2023-03-29T09:55:32.543Z"
   },
   {
    "duration": 187,
    "start_time": "2023-03-29T09:55:34.000Z"
   },
   {
    "duration": 31,
    "start_time": "2023-03-29T09:55:34.189Z"
   },
   {
    "duration": 22,
    "start_time": "2023-03-29T09:55:34.223Z"
   },
   {
    "duration": 19,
    "start_time": "2023-03-29T09:55:34.246Z"
   },
   {
    "duration": 21,
    "start_time": "2023-03-29T09:55:34.268Z"
   },
   {
    "duration": 52,
    "start_time": "2023-03-29T09:55:34.292Z"
   },
   {
    "duration": 20,
    "start_time": "2023-03-29T09:55:34.346Z"
   },
   {
    "duration": 13,
    "start_time": "2023-03-29T09:55:34.368Z"
   },
   {
    "duration": 17,
    "start_time": "2023-03-29T09:55:34.385Z"
   },
   {
    "duration": 16,
    "start_time": "2023-03-29T09:55:34.404Z"
   },
   {
    "duration": 14,
    "start_time": "2023-03-29T09:55:34.422Z"
   },
   {
    "duration": 24,
    "start_time": "2023-03-29T09:55:34.437Z"
   },
   {
    "duration": 9,
    "start_time": "2023-03-29T09:55:34.464Z"
   },
   {
    "duration": 7,
    "start_time": "2023-03-29T09:55:34.475Z"
   },
   {
    "duration": 48,
    "start_time": "2023-03-29T09:55:34.483Z"
   },
   {
    "duration": 11,
    "start_time": "2023-03-29T09:55:34.533Z"
   },
   {
    "duration": 16,
    "start_time": "2023-03-29T09:55:34.546Z"
   },
   {
    "duration": 4,
    "start_time": "2023-03-29T09:55:34.564Z"
   },
   {
    "duration": 16,
    "start_time": "2023-03-29T09:55:34.570Z"
   },
   {
    "duration": 9,
    "start_time": "2023-03-29T09:55:34.587Z"
   },
   {
    "duration": 20,
    "start_time": "2023-03-29T09:55:34.598Z"
   },
   {
    "duration": 12,
    "start_time": "2023-03-29T09:55:34.620Z"
   },
   {
    "duration": 10,
    "start_time": "2023-03-29T09:55:34.635Z"
   },
   {
    "duration": 23,
    "start_time": "2023-03-29T09:55:34.647Z"
   },
   {
    "duration": 17,
    "start_time": "2023-03-29T09:55:34.672Z"
   },
   {
    "duration": 3,
    "start_time": "2023-03-29T09:55:34.691Z"
   },
   {
    "duration": 3,
    "start_time": "2023-03-29T09:55:34.720Z"
   },
   {
    "duration": 13,
    "start_time": "2023-03-29T09:55:34.725Z"
   },
   {
    "duration": 21,
    "start_time": "2023-03-29T09:55:34.740Z"
   },
   {
    "duration": 13,
    "start_time": "2023-03-29T09:55:34.764Z"
   },
   {
    "duration": 144,
    "start_time": "2023-03-29T09:55:34.779Z"
   },
   {
    "duration": 10,
    "start_time": "2023-03-29T09:55:54.973Z"
   },
   {
    "duration": 23,
    "start_time": "2023-03-29T09:55:56.448Z"
   },
   {
    "duration": 17,
    "start_time": "2023-03-29T09:56:31.100Z"
   },
   {
    "duration": 7,
    "start_time": "2023-03-29T09:56:48.272Z"
   },
   {
    "duration": 18,
    "start_time": "2023-03-29T09:56:49.904Z"
   },
   {
    "duration": 9,
    "start_time": "2023-03-29T09:57:12.415Z"
   },
   {
    "duration": 45,
    "start_time": "2023-03-29T09:57:13.473Z"
   }
  ],
  "kernelspec": {
   "display_name": "Python 3 (ipykernel)",
   "language": "python",
   "name": "python3"
  },
  "language_info": {
   "codemirror_mode": {
    "name": "ipython",
    "version": 3
   },
   "file_extension": ".py",
   "mimetype": "text/x-python",
   "name": "python",
   "nbconvert_exporter": "python",
   "pygments_lexer": "ipython3",
   "version": "3.9.13"
  },
  "toc": {
   "base_numbering": 1,
   "nav_menu": {},
   "number_sections": true,
   "sideBar": true,
   "skip_h1_title": true,
   "title_cell": "Table of Contents",
   "title_sidebar": "Contents",
   "toc_cell": true,
   "toc_position": {},
   "toc_section_display": true,
   "toc_window_display": false
  }
 },
 "nbformat": 4,
 "nbformat_minor": 5
}
